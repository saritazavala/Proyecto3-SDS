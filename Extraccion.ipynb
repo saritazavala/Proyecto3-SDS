{
 "cells": [
  {
   "cell_type": "markdown",
   "id": "ea89ef52",
   "metadata": {},
   "source": [
    "## Proyecto 3 - SDS\n",
    "### Sara Zavala"
   ]
  },
  {
   "cell_type": "code",
   "execution_count": 1,
   "id": "6397b064",
   "metadata": {},
   "outputs": [],
   "source": [
    "##Ataque de extracción "
   ]
  },
  {
   "cell_type": "code",
   "execution_count": 2,
   "id": "539efb01",
   "metadata": {},
   "outputs": [],
   "source": [
    "import pprint\n",
    "import numpy as np\n",
    "import pandas as pd\n",
    "from sklearn import *\n",
    "import seaborn as sns\n",
    "import tensorflow as tf\n",
    "from tensorflow import keras\n",
    "import matplotlib.pyplot as plt\n",
    "from matplotlib.path import Path\n",
    "from sklearn.utils import class_weight\n",
    "from matplotlib.patches import PathPatch\n",
    "from keras.models import Sequential, Model\n",
    "from sklearn.datasets import make_classification\n",
    "from art.attacks.evasion import FastGradientMethod\n",
    "from art.defences.trainer import AdversarialTrainer\n",
    "from sklearn.model_selection import train_test_split\n",
    "from art.attacks.evasion import BasicIterativeMethod\n",
    "from art.defences.postprocessor import ReverseSigmoid\n",
    "from keras.preprocessing.image import ImageDataGenerator\n",
    "from art.estimators.classification import KerasClassifier\n",
    "from art.attacks.extraction import CopycatCNN, KnockoffNets\n",
    "from art.estimators.classification import TensorFlowV2Classifier\n",
    "from keras.layers import Conv2D, MaxPooling2D, InputLayer, Reshape\n",
    "from sklearn.metrics import confusion_matrix,classification_report\n",
    "from tensorflow.python.framework.ops import disable_eager_execution"
   ]
  },
  {
   "cell_type": "code",
   "execution_count": 3,
   "id": "b8d5efca",
   "metadata": {},
   "outputs": [],
   "source": [
    "tf.compat.v1.disable_eager_execution()"
   ]
  },
  {
   "cell_type": "code",
   "execution_count": 4,
   "id": "3b808a0e",
   "metadata": {},
   "outputs": [],
   "source": [
    "path = (\"malimg_paper_dataset_imgs\")"
   ]
  },
  {
   "cell_type": "code",
   "execution_count": 5,
   "id": "3270ca43",
   "metadata": {},
   "outputs": [
    {
     "name": "stdout",
     "output_type": "stream",
     "text": [
      "Found 9339 images belonging to 25 classes.\n"
     ]
    }
   ],
   "source": [
    "path_images = ImageDataGenerator().flow_from_directory(directory=path, target_size=(128,128), batch_size=10000)"
   ]
  },
  {
   "cell_type": "code",
   "execution_count": 6,
   "id": "aafa1996",
   "metadata": {},
   "outputs": [
    {
     "data": {
      "text/plain": [
       "{'Adialer.C': 0,\n",
       " 'Agent.FYI': 1,\n",
       " 'Allaple.A': 2,\n",
       " 'Allaple.L': 3,\n",
       " 'Alueron.gen!J': 4,\n",
       " 'Autorun.K': 5,\n",
       " 'C2LOP.P': 6,\n",
       " 'C2LOP.gen!g': 7,\n",
       " 'Dialplatform.B': 8,\n",
       " 'Dontovo.A': 9,\n",
       " 'Fakerean': 10,\n",
       " 'Instantaccess': 11,\n",
       " 'Lolyda.AA1': 12,\n",
       " 'Lolyda.AA2': 13,\n",
       " 'Lolyda.AA3': 14,\n",
       " 'Lolyda.AT': 15,\n",
       " 'Malex.gen!J': 16,\n",
       " 'Obfuscator.AD': 17,\n",
       " 'Rbot!gen': 18,\n",
       " 'Skintrim.N': 19,\n",
       " 'Swizzor.gen!E': 20,\n",
       " 'Swizzor.gen!I': 21,\n",
       " 'VB.AT': 22,\n",
       " 'Wintrim.BX': 23,\n",
       " 'Yuner.A': 24}"
      ]
     },
     "execution_count": 6,
     "metadata": {},
     "output_type": "execute_result"
    }
   ],
   "source": [
    "path_images.class_indices"
   ]
  },
  {
   "cell_type": "code",
   "execution_count": 7,
   "id": "aa7abc1a",
   "metadata": {},
   "outputs": [
    {
     "name": "stdout",
     "output_type": "stream",
     "text": [
      "24\n"
     ]
    }
   ],
   "source": [
    "data = path_images.class_indices\n",
    "data2 = list(data.values())\n",
    "print(len(data2)-1)"
   ]
  },
  {
   "cell_type": "code",
   "execution_count": 8,
   "id": "61457fff",
   "metadata": {},
   "outputs": [],
   "source": [
    "# x, y = next(batches)\n",
    "images, marks = next(path_images)"
   ]
  },
  {
   "cell_type": "code",
   "execution_count": 9,
   "id": "4369d0c4",
   "metadata": {},
   "outputs": [
    {
     "data": {
      "text/plain": [
       "(9339, 128, 128, 3)"
      ]
     },
     "execution_count": 9,
     "metadata": {},
     "output_type": "execute_result"
    }
   ],
   "source": [
    "images.shape"
   ]
  },
  {
   "cell_type": "code",
   "execution_count": 10,
   "id": "22cc6b44",
   "metadata": {},
   "outputs": [
    {
     "data": {
      "text/plain": [
       "459030528"
      ]
     },
     "execution_count": 10,
     "metadata": {},
     "output_type": "execute_result"
    }
   ],
   "source": [
    "images.size"
   ]
  },
  {
   "cell_type": "code",
   "execution_count": 11,
   "id": "d1b3a007",
   "metadata": {},
   "outputs": [
    {
     "data": {
      "text/plain": [
       "233475"
      ]
     },
     "execution_count": 11,
     "metadata": {},
     "output_type": "execute_result"
    }
   ],
   "source": [
    "marks.size"
   ]
  },
  {
   "cell_type": "code",
   "execution_count": 12,
   "id": "f5b39c1e",
   "metadata": {},
   "outputs": [
    {
     "name": "stdout",
     "output_type": "stream",
     "text": [
      "Images size -->  4\n",
      "Marks -->  4\n"
     ]
    }
   ],
   "source": [
    "print('Images size --> ', images.itemsize)\n",
    "print('Marks --> ',marks.itemsize)"
   ]
  },
  {
   "cell_type": "code",
   "execution_count": 13,
   "id": "f5a1af6d",
   "metadata": {},
   "outputs": [
    {
     "data": {
      "text/plain": [
       "array([[[[143., 143., 143.],\n",
       "         [173., 173., 173.],\n",
       "         [126., 126., 126.],\n",
       "         ...,\n",
       "         [  0.,   0.,   0.],\n",
       "         [  0.,   0.,   0.],\n",
       "         [  0.,   0.,   0.]],\n",
       "\n",
       "        [[  0.,   0.,   0.],\n",
       "         [  0.,   0.,   0.],\n",
       "         [  0.,   0.,   0.],\n",
       "         ...,\n",
       "         [  0.,   0.,   0.],\n",
       "         [  0.,   0.,   0.],\n",
       "         [  0.,   0.,   0.]],\n",
       "\n",
       "        [[ 78.,  78.,  78.],\n",
       "         [102., 102., 102.],\n",
       "         [225., 225., 225.],\n",
       "         ...,\n",
       "         [245., 245., 245.],\n",
       "         [158., 158., 158.],\n",
       "         [ 86.,  86.,  86.]],\n",
       "\n",
       "        ...,\n",
       "\n",
       "        [[ 14.,  14.,  14.],\n",
       "         [ 97.,  97.,  97.],\n",
       "         [ 66.,  66.,  66.],\n",
       "         ...,\n",
       "         [ 81.,  81.,  81.],\n",
       "         [ 91.,  91.,  91.],\n",
       "         [ 16.,  16.,  16.]],\n",
       "\n",
       "        [[212., 212., 212.],\n",
       "         [114., 114., 114.],\n",
       "         [248., 248., 248.],\n",
       "         ...,\n",
       "         [194., 194., 194.],\n",
       "         [137., 137., 137.],\n",
       "         [154., 154., 154.]],\n",
       "\n",
       "        [[ 67.,  67.,  67.],\n",
       "         [ 43.,  43.,  43.],\n",
       "         [224., 224., 224.],\n",
       "         ...,\n",
       "         [ 89.,  89.,  89.],\n",
       "         [ 23.,  23.,  23.],\n",
       "         [ 18.,  18.,  18.]]],\n",
       "\n",
       "\n",
       "       [[[ 90.,  90.,  90.],\n",
       "         [  0.,   0.,   0.],\n",
       "         [  0.,   0.,   0.],\n",
       "         ...,\n",
       "         [  0.,   0.,   0.],\n",
       "         [  0.,   0.,   0.],\n",
       "         [  0.,   0.,   0.]],\n",
       "\n",
       "        [[  6.,   6.,   6.],\n",
       "         [  0.,   0.,   0.],\n",
       "         [ 80.,  80.,  80.],\n",
       "         ...,\n",
       "         [  0.,   0.,   0.],\n",
       "         [  0.,   0.,   0.],\n",
       "         [  0.,   0.,   0.]],\n",
       "\n",
       "        [[117., 117., 117.],\n",
       "         [120., 120., 120.],\n",
       "         [  0.,   0.,   0.],\n",
       "         ...,\n",
       "         [181., 181., 181.],\n",
       "         [237., 237., 237.],\n",
       "         [ 54.,  54.,  54.]],\n",
       "\n",
       "        ...,\n",
       "\n",
       "        [[204., 204., 204.],\n",
       "         [225., 225., 225.],\n",
       "         [ 38.,  38.,  38.],\n",
       "         ...,\n",
       "         [ 17.,  17.,  17.],\n",
       "         [ 44.,  44.,  44.],\n",
       "         [ 36.,  36.,  36.]],\n",
       "\n",
       "        [[205., 205., 205.],\n",
       "         [139., 139., 139.],\n",
       "         [ 69.,  69.,  69.],\n",
       "         ...,\n",
       "         [ 50.,  50.,  50.],\n",
       "         [173., 173., 173.],\n",
       "         [  0.,   0.,   0.]],\n",
       "\n",
       "        [[ 33.,  33.,  33.],\n",
       "         [ 26.,  26.,  26.],\n",
       "         [ 49.,  49.,  49.],\n",
       "         ...,\n",
       "         [ 85.,  85.,  85.],\n",
       "         [209., 209., 209.],\n",
       "         [176., 176., 176.]]],\n",
       "\n",
       "\n",
       "       [[[ 16.,  16.,  16.],\n",
       "         [240., 240., 240.],\n",
       "         [ 89.,  89.,  89.],\n",
       "         ...,\n",
       "         [  0.,   0.,   0.],\n",
       "         [ 72.,  72.,  72.],\n",
       "         [  0.,   0.,   0.]],\n",
       "\n",
       "        [[201., 201., 201.],\n",
       "         [  1.,   1.,   1.],\n",
       "         [ 15.,  15.,  15.],\n",
       "         ...,\n",
       "         [ 12.,  12.,  12.],\n",
       "         [232., 232., 232.],\n",
       "         [255., 255., 255.]],\n",
       "\n",
       "        [[  4.,   4.,   4.],\n",
       "         [195., 195., 195.],\n",
       "         [235., 235., 235.],\n",
       "         ...,\n",
       "         [195., 195., 195.],\n",
       "         [ 24.,  24.,  24.],\n",
       "         [ 87.,  87.,  87.]],\n",
       "\n",
       "        ...,\n",
       "\n",
       "        [[117., 117., 117.],\n",
       "         [115., 115., 115.],\n",
       "         [108., 108., 108.],\n",
       "         ...,\n",
       "         [  0.,   0.,   0.],\n",
       "         [  0.,   0.,   0.],\n",
       "         [  0.,   0.,   0.]],\n",
       "\n",
       "        [[127., 127., 127.],\n",
       "         [202., 202., 202.],\n",
       "         [ 90.,  90.,  90.],\n",
       "         ...,\n",
       "         [ 64.,  64.,  64.],\n",
       "         [118., 118., 118.],\n",
       "         [110., 110., 110.]],\n",
       "\n",
       "        [[187., 187., 187.],\n",
       "         [ 94.,  94.,  94.],\n",
       "         [  2.,   2.,   2.],\n",
       "         ...,\n",
       "         [166., 166., 166.],\n",
       "         [253., 253., 253.],\n",
       "         [ 20.,  20.,  20.]]],\n",
       "\n",
       "\n",
       "       ...,\n",
       "\n",
       "\n",
       "       [[[177., 177., 177.],\n",
       "         [149., 149., 149.],\n",
       "         [239., 239., 239.],\n",
       "         ...,\n",
       "         [  0.,   0.,   0.],\n",
       "         [  0.,   0.,   0.],\n",
       "         [  0.,   0.,   0.]],\n",
       "\n",
       "        [[  0.,   0.,   0.],\n",
       "         [  0.,   0.,   0.],\n",
       "         [  0.,   0.,   0.],\n",
       "         ...,\n",
       "         [  0.,   0.,   0.],\n",
       "         [  0.,   0.,   0.],\n",
       "         [  0.,   0.,   0.]],\n",
       "\n",
       "        [[224., 224., 224.],\n",
       "         [103., 103., 103.],\n",
       "         [223., 223., 223.],\n",
       "         ...,\n",
       "         [ 96.,  96.,  96.],\n",
       "         [ 28.,  28.,  28.],\n",
       "         [ 20.,  20.,  20.]],\n",
       "\n",
       "        ...,\n",
       "\n",
       "        [[252., 252., 252.],\n",
       "         [106., 106., 106.],\n",
       "         [226., 226., 226.],\n",
       "         ...,\n",
       "         [143., 143., 143.],\n",
       "         [169., 169., 169.],\n",
       "         [183., 183., 183.]],\n",
       "\n",
       "        [[100., 100., 100.],\n",
       "         [ 73.,  73.,  73.],\n",
       "         [ 81.,  81.,  81.],\n",
       "         ...,\n",
       "         [ 20.,  20.,  20.],\n",
       "         [236., 236., 236.],\n",
       "         [120., 120., 120.]],\n",
       "\n",
       "        [[ 57.,  57.,  57.],\n",
       "         [198., 198., 198.],\n",
       "         [236., 236., 236.],\n",
       "         ...,\n",
       "         [172., 172., 172.],\n",
       "         [148., 148., 148.],\n",
       "         [ 64.,  64.,  64.]]],\n",
       "\n",
       "\n",
       "       [[[ 16.,  16.,  16.],\n",
       "         [240., 240., 240.],\n",
       "         [ 89.,  89.,  89.],\n",
       "         ...,\n",
       "         [  0.,   0.,   0.],\n",
       "         [ 72.,  72.,  72.],\n",
       "         [  0.,   0.,   0.]],\n",
       "\n",
       "        [[201., 201., 201.],\n",
       "         [  1.,   1.,   1.],\n",
       "         [ 15.,  15.,  15.],\n",
       "         ...,\n",
       "         [ 12.,  12.,  12.],\n",
       "         [232., 232., 232.],\n",
       "         [255., 255., 255.]],\n",
       "\n",
       "        [[  4.,   4.,   4.],\n",
       "         [195., 195., 195.],\n",
       "         [235., 235., 235.],\n",
       "         ...,\n",
       "         [195., 195., 195.],\n",
       "         [ 24.,  24.,  24.],\n",
       "         [ 87.,  87.,  87.]],\n",
       "\n",
       "        ...,\n",
       "\n",
       "        [[117., 117., 117.],\n",
       "         [115., 115., 115.],\n",
       "         [108., 108., 108.],\n",
       "         ...,\n",
       "         [  0.,   0.,   0.],\n",
       "         [  0.,   0.,   0.],\n",
       "         [  0.,   0.,   0.]],\n",
       "\n",
       "        [[127., 127., 127.],\n",
       "         [202., 202., 202.],\n",
       "         [ 90.,  90.,  90.],\n",
       "         ...,\n",
       "         [ 64.,  64.,  64.],\n",
       "         [118., 118., 118.],\n",
       "         [110., 110., 110.]],\n",
       "\n",
       "        [[187., 187., 187.],\n",
       "         [ 94.,  94.,  94.],\n",
       "         [  2.,   2.,   2.],\n",
       "         ...,\n",
       "         [166., 166., 166.],\n",
       "         [253., 253., 253.],\n",
       "         [ 20.,  20.,  20.]]],\n",
       "\n",
       "\n",
       "       [[[112., 112., 112.],\n",
       "         [  0.,   0.,   0.],\n",
       "         [  4.,   4.,   4.],\n",
       "         ...,\n",
       "         [116., 116., 116.],\n",
       "         [  0.,   0.,   0.],\n",
       "         [  0.,   0.,   0.]],\n",
       "\n",
       "        [[  0.,   0.,   0.],\n",
       "         [  0.,   0.,   0.],\n",
       "         [  0.,   0.,   0.],\n",
       "         ...,\n",
       "         [  0.,   0.,   0.],\n",
       "         [  0.,   0.,   0.],\n",
       "         [  0.,   0.,   0.]],\n",
       "\n",
       "        [[ 14.,  14.,  14.],\n",
       "         [ 78.,  78.,  78.],\n",
       "         [ 31.,  31.,  31.],\n",
       "         ...,\n",
       "         [ 82.,  82.,  82.],\n",
       "         [207., 207., 207.],\n",
       "         [ 49.,  49.,  49.]],\n",
       "\n",
       "        ...,\n",
       "\n",
       "        [[184., 184., 184.],\n",
       "         [102., 102., 102.],\n",
       "         [ 24.,  24.,  24.],\n",
       "         ...,\n",
       "         [136., 136., 136.],\n",
       "         [104., 104., 104.],\n",
       "         [ 83.,  83.,  83.]],\n",
       "\n",
       "        [[ 11.,  11.,  11.],\n",
       "         [ 31.,  31.,  31.],\n",
       "         [ 19.,  19.,  19.],\n",
       "         ...,\n",
       "         [189., 189., 189.],\n",
       "         [230., 230., 230.],\n",
       "         [146., 146., 146.]],\n",
       "\n",
       "        [[ 59.,  59.,  59.],\n",
       "         [168., 168., 168.],\n",
       "         [178., 178., 178.],\n",
       "         ...,\n",
       "         [221., 221., 221.],\n",
       "         [ 11.,  11.,  11.],\n",
       "         [235., 235., 235.]]]], dtype=float32)"
      ]
     },
     "execution_count": 13,
     "metadata": {},
     "output_type": "execute_result"
    }
   ],
   "source": [
    "images"
   ]
  },
  {
   "cell_type": "code",
   "execution_count": 14,
   "id": "06b78a41",
   "metadata": {},
   "outputs": [
    {
     "data": {
      "text/plain": [
       "array([[0., 0., 0., ..., 0., 0., 0.],\n",
       "       [0., 0., 1., ..., 0., 0., 0.],\n",
       "       [0., 0., 0., ..., 0., 0., 1.],\n",
       "       ...,\n",
       "       [0., 0., 0., ..., 0., 0., 0.],\n",
       "       [0., 0., 0., ..., 0., 0., 1.],\n",
       "       [0., 0., 1., ..., 0., 0., 0.]], dtype=float32)"
      ]
     },
     "execution_count": 14,
     "metadata": {},
     "output_type": "execute_result"
    }
   ],
   "source": [
    "marks"
   ]
  },
  {
   "cell_type": "code",
   "execution_count": 15,
   "id": "8cc70331",
   "metadata": {},
   "outputs": [],
   "source": [
    "## Entrenamiento y prediccion"
   ]
  },
  {
   "cell_type": "code",
   "execution_count": 16,
   "id": "35d79d3c",
   "metadata": {},
   "outputs": [],
   "source": [
    "X_train, X_test0, y_train, y_test0 = train_test_split(images, marks, test_size = 0.2)"
   ]
  },
  {
   "cell_type": "code",
   "execution_count": null,
   "id": "5a7510ec",
   "metadata": {},
   "outputs": [],
   "source": [
    "## TRAIN"
   ]
  },
  {
   "cell_type": "code",
   "execution_count": 17,
   "id": "5434cedd",
   "metadata": {},
   "outputs": [
    {
     "data": {
      "text/plain": [
       "(7471, 128, 128, 3)"
      ]
     },
     "execution_count": 17,
     "metadata": {},
     "output_type": "execute_result"
    }
   ],
   "source": [
    "X_train.shape"
   ]
  },
  {
   "cell_type": "code",
   "execution_count": 18,
   "id": "6e6d4e4f",
   "metadata": {},
   "outputs": [
    {
     "data": {
      "text/plain": [
       "(7471, 25)"
      ]
     },
     "execution_count": 18,
     "metadata": {},
     "output_type": "execute_result"
    }
   ],
   "source": [
    "y_train.shape"
   ]
  },
  {
   "cell_type": "code",
   "execution_count": 19,
   "id": "fe434ada",
   "metadata": {},
   "outputs": [
    {
     "data": {
      "text/plain": [
       "367214592"
      ]
     },
     "execution_count": 19,
     "metadata": {},
     "output_type": "execute_result"
    }
   ],
   "source": [
    "X_train.size"
   ]
  },
  {
   "cell_type": "code",
   "execution_count": 20,
   "id": "3d0984e5",
   "metadata": {},
   "outputs": [
    {
     "data": {
      "text/plain": [
       "186775"
      ]
     },
     "execution_count": 20,
     "metadata": {},
     "output_type": "execute_result"
    }
   ],
   "source": [
    "y_train.size"
   ]
  },
  {
   "cell_type": "code",
   "execution_count": 21,
   "id": "486eb040",
   "metadata": {},
   "outputs": [],
   "source": [
    "## TEST"
   ]
  },
  {
   "cell_type": "code",
   "execution_count": 22,
   "id": "94a1dba7",
   "metadata": {},
   "outputs": [
    {
     "data": {
      "text/plain": [
       "(1868, 128, 128, 3)"
      ]
     },
     "execution_count": 22,
     "metadata": {},
     "output_type": "execute_result"
    }
   ],
   "source": [
    "X_test0.shape"
   ]
  },
  {
   "cell_type": "code",
   "execution_count": 23,
   "id": "4e386260",
   "metadata": {},
   "outputs": [
    {
     "data": {
      "text/plain": [
       "(1868, 25)"
      ]
     },
     "execution_count": 23,
     "metadata": {},
     "output_type": "execute_result"
    }
   ],
   "source": [
    "y_test0.shape"
   ]
  },
  {
   "cell_type": "code",
   "execution_count": 24,
   "id": "a22a20a2",
   "metadata": {},
   "outputs": [
    {
     "data": {
      "text/plain": [
       "91815936"
      ]
     },
     "execution_count": 24,
     "metadata": {},
     "output_type": "execute_result"
    }
   ],
   "source": [
    "X_test0.size"
   ]
  },
  {
   "cell_type": "code",
   "execution_count": 25,
   "id": "2e5f68f0",
   "metadata": {},
   "outputs": [
    {
     "data": {
      "text/plain": [
       "46700"
      ]
     },
     "execution_count": 25,
     "metadata": {},
     "output_type": "execute_result"
    }
   ],
   "source": [
    "y_test0.size"
   ]
  },
  {
   "cell_type": "markdown",
   "id": "3d221dda",
   "metadata": {},
   "source": [
    "## Modelo Original - Red"
   ]
  },
  {
   "cell_type": "code",
   "execution_count": 26,
   "id": "e156222c",
   "metadata": {},
   "outputs": [
    {
     "name": "stdout",
     "output_type": "stream",
     "text": [
      "WARNING:tensorflow:From C:\\Users\\sarit\\AppData\\Roaming\\Python\\Python38\\site-packages\\keras\\layers\\normalization\\batch_normalization.py:520: _colocate_with (from tensorflow.python.framework.ops) is deprecated and will be removed in a future version.\n",
      "Instructions for updating:\n",
      "Colocations handled automatically by placer.\n"
     ]
    }
   ],
   "source": [
    "model = keras.Sequential()\n",
    "model.add(keras.layers.Conv2D(32, (5, 5), input_shape=(128, 128, 3), activation='relu', padding='same'))\n",
    "model.add(keras.layers.MaxPooling2D(2))\n",
    "model.add(keras.layers.Dropout(0.2))\n",
    "model.add(keras.layers.BatchNormalization())\n",
    "model.add(keras.layers.Conv2D(64, (3, 3), activation='relu'))\n",
    "model.add(keras.layers.Conv2D(128, (3, 3), activation='relu'))\n",
    "model.add(keras.layers.Flatten())\n",
    "model.add(keras.layers.Dense(128, activation='relu'))\n",
    "model.add(keras.layers.Dense(25, activation='softmax'))"
   ]
  },
  {
   "cell_type": "code",
   "execution_count": 27,
   "id": "2b0d0504",
   "metadata": {},
   "outputs": [],
   "source": [
    "# Compile\n",
    "# https://faroit.com/keras-docs/2.1.3/models/sequential/\n",
    "model.compile(loss='categorical_crossentropy',optimizer='SGD',metrics=['accuracy'])"
   ]
  },
  {
   "cell_type": "code",
   "execution_count": 28,
   "id": "98ca3162",
   "metadata": {},
   "outputs": [
    {
     "name": "stdout",
     "output_type": "stream",
     "text": [
      "Model: \"sequential\"\n",
      "_________________________________________________________________\n",
      "Layer (type)                 Output Shape              Param #   \n",
      "=================================================================\n",
      "conv2d (Conv2D)              (None, 128, 128, 32)      2432      \n",
      "_________________________________________________________________\n",
      "max_pooling2d (MaxPooling2D) (None, 64, 64, 32)        0         \n",
      "_________________________________________________________________\n",
      "dropout (Dropout)            (None, 64, 64, 32)        0         \n",
      "_________________________________________________________________\n",
      "batch_normalization (BatchNo (None, 64, 64, 32)        128       \n",
      "_________________________________________________________________\n",
      "conv2d_1 (Conv2D)            (None, 62, 62, 64)        18496     \n",
      "_________________________________________________________________\n",
      "conv2d_2 (Conv2D)            (None, 60, 60, 128)       73856     \n",
      "_________________________________________________________________\n",
      "flatten (Flatten)            (None, 460800)            0         \n",
      "_________________________________________________________________\n",
      "dense (Dense)                (None, 128)               58982528  \n",
      "_________________________________________________________________\n",
      "dense_1 (Dense)              (None, 25)                3225      \n",
      "=================================================================\n",
      "Total params: 59,080,665\n",
      "Trainable params: 59,080,601\n",
      "Non-trainable params: 64\n",
      "_________________________________________________________________\n"
     ]
    }
   ],
   "source": [
    "model.summary()"
   ]
  },
  {
   "cell_type": "code",
   "execution_count": 29,
   "id": "4d3b3a97",
   "metadata": {},
   "outputs": [
    {
     "data": {
      "text/plain": [
       "[<keras.layers.convolutional.Conv2D at 0x23805c5d6d0>,\n",
       " <keras.layers.pooling.MaxPooling2D at 0x2385d94fa60>,\n",
       " <keras.layers.core.Dropout at 0x2381bafd3a0>,\n",
       " <keras.layers.normalization.batch_normalization.BatchNormalization at 0x2381bafd370>,\n",
       " <keras.layers.convolutional.Conv2D at 0x2381bb33b20>,\n",
       " <keras.layers.convolutional.Conv2D at 0x2381bbc83a0>,\n",
       " <keras.layers.core.Flatten at 0x2381bb8ac70>,\n",
       " <keras.layers.core.Dense at 0x2381bbfb460>,\n",
       " <keras.layers.core.Dense at 0x2381bc074c0>]"
      ]
     },
     "execution_count": 29,
     "metadata": {},
     "output_type": "execute_result"
    }
   ],
   "source": [
    "model.layers"
   ]
  },
  {
   "cell_type": "code",
   "execution_count": 30,
   "id": "a238b9a0",
   "metadata": {},
   "outputs": [
    {
     "name": "stdout",
     "output_type": "stream",
     "text": [
      "<keras.optimizer_v2.gradient_descent.SGD object at 0x000002385D94FA30>\n"
     ]
    }
   ],
   "source": [
    "print(model.optimizer)"
   ]
  },
  {
   "cell_type": "code",
   "execution_count": 31,
   "id": "ae6c2884",
   "metadata": {},
   "outputs": [
    {
     "name": "stdout",
     "output_type": "stream",
     "text": [
      "[<keras.metrics.MeanMetricWrapper object at 0x000002381BC22CA0>]\n"
     ]
    }
   ],
   "source": [
    "print(model.metrics)"
   ]
  },
  {
   "cell_type": "code",
   "execution_count": 35,
   "id": "4178fd69",
   "metadata": {},
   "outputs": [
    {
     "name": "stdout",
     "output_type": "stream",
     "text": [
      "Exactitud --> 46.46266961761409\n"
     ]
    }
   ],
   "source": [
    "# Comprobacion sobre data\n",
    "op = model.evaluate(X_test0, y_test0)\n",
    "print(\"Exactitud -->\", op[0])"
   ]
  },
  {
   "cell_type": "code",
   "execution_count": 36,
   "id": "580c1726",
   "metadata": {},
   "outputs": [
    {
     "name": "stdout",
     "output_type": "stream",
     "text": [
      "Train on 7471 samples, validate on 1868 samples\n",
      "Epoch 1/5\n",
      "7471/7471 [==============================] - 231s 31ms/sample - loss: 0.3872 - accuracy: 0.8999 - val_loss: 0.7327 - val_accuracy: 0.7093\n",
      "Epoch 2/5\n",
      "7471/7471 [==============================] - 226s 30ms/sample - loss: 0.0793 - accuracy: 0.9716 - val_loss: 0.0819 - val_accuracy: 0.9673\n",
      "Epoch 3/5\n",
      "7471/7471 [==============================] - 236s 32ms/sample - loss: 0.0257 - accuracy: 0.9916 - val_loss: 0.0727 - val_accuracy: 0.9781\n",
      "Epoch 4/5\n",
      "7471/7471 [==============================] - 269s 36ms/sample - loss: 0.0072 - accuracy: 0.9984 - val_loss: 0.0721 - val_accuracy: 0.9797\n",
      "Epoch 5/5\n",
      "7471/7471 [==============================] - 274s 37ms/sample - loss: 0.0032 - accuracy: 0.9995 - val_loss: 0.0721 - val_accuracy: 0.9818\n"
     ]
    },
    {
     "data": {
      "text/plain": [
       "<keras.callbacks.History at 0x238313e3550>"
      ]
     },
     "execution_count": 36,
     "metadata": {},
     "output_type": "execute_result"
    }
   ],
   "source": [
    "model.fit(X_train, y_train, batch_size=10, validation_data=(X_test0, y_test0), epochs=5)"
   ]
  },
  {
   "cell_type": "code",
   "execution_count": 37,
   "id": "9c97553a",
   "metadata": {},
   "outputs": [],
   "source": [
    "## Modelo Robado"
   ]
  },
  {
   "cell_type": "code",
   "execution_count": 38,
   "id": "3e725842",
   "metadata": {},
   "outputs": [],
   "source": [
    "modelR = Sequential()\n",
    "modelR.add(keras.layers.Rescaling(1./255, input_shape=(128, 128, 3)))\n",
    "modelR.add(keras.layers.Conv2D(32, kernel_size=(3, 3), activation='relu'))\n",
    "modelR.add(keras.layers.MaxPooling2D(pool_size=(2, 2)))\n",
    "modelR.add(keras.layers.Conv2D(64, (3, 3), activation='relu'))\n",
    "modelR.add(keras.layers.MaxPooling2D(pool_size=(2, 2)))\n",
    "modelR.add(keras.layers.Flatten())\n",
    "modelR.add(keras.layers.Dense(1024, activation='relu'))\n",
    "modelR.add(keras.layers.Dense(25, activation='softmax'))"
   ]
  },
  {
   "cell_type": "code",
   "execution_count": 39,
   "id": "3546e842",
   "metadata": {},
   "outputs": [],
   "source": [
    "    modelR.compile(loss='categorical_crossentropy', optimizer = 'adam', metrics=['accuracy'])"
   ]
  },
  {
   "cell_type": "code",
   "execution_count": 40,
   "id": "6a48e254",
   "metadata": {},
   "outputs": [
    {
     "name": "stdout",
     "output_type": "stream",
     "text": [
      "Model: \"sequential_1\"\n",
      "_________________________________________________________________\n",
      "Layer (type)                 Output Shape              Param #   \n",
      "=================================================================\n",
      "rescaling (Rescaling)        (None, 128, 128, 3)       0         \n",
      "_________________________________________________________________\n",
      "conv2d_3 (Conv2D)            (None, 126, 126, 32)      896       \n",
      "_________________________________________________________________\n",
      "max_pooling2d_1 (MaxPooling2 (None, 63, 63, 32)        0         \n",
      "_________________________________________________________________\n",
      "conv2d_4 (Conv2D)            (None, 61, 61, 64)        18496     \n",
      "_________________________________________________________________\n",
      "max_pooling2d_2 (MaxPooling2 (None, 30, 30, 64)        0         \n",
      "_________________________________________________________________\n",
      "flatten_1 (Flatten)          (None, 57600)             0         \n",
      "_________________________________________________________________\n",
      "dense_2 (Dense)              (None, 1024)              58983424  \n",
      "_________________________________________________________________\n",
      "dense_3 (Dense)              (None, 25)                25625     \n",
      "=================================================================\n",
      "Total params: 59,028,441\n",
      "Trainable params: 59,028,441\n",
      "Non-trainable params: 0\n",
      "_________________________________________________________________\n"
     ]
    }
   ],
   "source": [
    "modelR.summary()"
   ]
  },
  {
   "cell_type": "code",
   "execution_count": 41,
   "id": "01852c25",
   "metadata": {},
   "outputs": [
    {
     "data": {
      "text/plain": [
       "[<keras.layers.preprocessing.image_preprocessing.Rescaling at 0x2383141dc40>,\n",
       " <keras.layers.convolutional.Conv2D at 0x23823277790>,\n",
       " <keras.layers.pooling.MaxPooling2D at 0x238232774f0>,\n",
       " <keras.layers.convolutional.Conv2D at 0x23822f5a250>,\n",
       " <keras.layers.pooling.MaxPooling2D at 0x2381bafd2e0>,\n",
       " <keras.layers.core.Flatten at 0x2381bc1c5b0>,\n",
       " <keras.layers.core.Dense at 0x23823295fa0>,\n",
       " <keras.layers.core.Dense at 0x238057169a0>]"
      ]
     },
     "execution_count": 41,
     "metadata": {},
     "output_type": "execute_result"
    }
   ],
   "source": [
    "modelR.layers"
   ]
  },
  {
   "cell_type": "code",
   "execution_count": 42,
   "id": "2faf1d7b",
   "metadata": {},
   "outputs": [
    {
     "name": "stdout",
     "output_type": "stream",
     "text": [
      "<keras.optimizer_v2.adam.Adam object at 0x0000023823277C70>\n"
     ]
    }
   ],
   "source": [
    "print(modelR.optimizer)"
   ]
  },
  {
   "cell_type": "code",
   "execution_count": 43,
   "id": "ab3463e3",
   "metadata": {},
   "outputs": [
    {
     "name": "stdout",
     "output_type": "stream",
     "text": [
      "[<keras.metrics.MeanMetricWrapper object at 0x00000238232A37C0>]\n"
     ]
    }
   ],
   "source": [
    "print(modelR.metrics)"
   ]
  },
  {
   "cell_type": "code",
   "execution_count": 44,
   "id": "d1421217",
   "metadata": {},
   "outputs": [
    {
     "name": "stdout",
     "output_type": "stream",
     "text": [
      "Exactitud --> 0.020342613\n"
     ]
    }
   ],
   "source": [
    "# Comprobacion sobre data\n",
    "op = modelR.evaluate(X_test0, y_test0)\n",
    "print(\"Exactitud -->\", op[1])"
   ]
  },
  {
   "cell_type": "code",
   "execution_count": 46,
   "id": "dec3c93a",
   "metadata": {},
   "outputs": [
    {
     "name": "stdout",
     "output_type": "stream",
     "text": [
      "Train on 7471 samples, validate on 1868 samples\n",
      "Epoch 1/5\n",
      "7471/7471 [==============================] - 247s 33ms/sample - loss: 0.3037 - accuracy: 0.9145 - val_loss: 0.1971 - val_accuracy: 0.9411\n",
      "Epoch 2/5\n",
      "7471/7471 [==============================] - 261s 35ms/sample - loss: 0.1113 - accuracy: 0.9673 - val_loss: 0.1704 - val_accuracy: 0.9475\n",
      "Epoch 3/5\n",
      "7471/7471 [==============================] - 271s 36ms/sample - loss: 0.0834 - accuracy: 0.9747 - val_loss: 0.1771 - val_accuracy: 0.9577\n",
      "Epoch 4/5\n",
      "7471/7471 [==============================] - 270s 36ms/sample - loss: 0.0515 - accuracy: 0.9845 - val_loss: 0.1606 - val_accuracy: 0.9593\n",
      "Epoch 5/5\n",
      "7471/7471 [==============================] - 285s 38ms/sample - loss: 0.0392 - accuracy: 0.9884 - val_loss: 0.1224 - val_accuracy: 0.9684\n"
     ]
    },
    {
     "data": {
      "text/plain": [
       "<keras.callbacks.History at 0x238232ce6d0>"
      ]
     },
     "execution_count": 46,
     "metadata": {},
     "output_type": "execute_result"
    }
   ],
   "source": [
    "modelR.fit(X_train, y_train, batch_size=10, validation_data=(X_test0, y_test0), epochs=5)"
   ]
  },
  {
   "cell_type": "code",
   "execution_count": 47,
   "id": "6b93f362",
   "metadata": {},
   "outputs": [
    {
     "name": "stdout",
     "output_type": "stream",
     "text": [
      "<keras.optimizer_v2.adam.Adam object at 0x0000023823277C70>\n"
     ]
    }
   ],
   "source": [
    "print(modelR.optimizer)"
   ]
  },
  {
   "cell_type": "code",
   "execution_count": 48,
   "id": "2e6655da",
   "metadata": {},
   "outputs": [
    {
     "name": "stdout",
     "output_type": "stream",
     "text": [
      "[<keras.metrics.MeanMetricWrapper object at 0x00000238232A37C0>]\n"
     ]
    }
   ],
   "source": [
    "print(modelR.metrics)"
   ]
  },
  {
   "cell_type": "code",
   "execution_count": 49,
   "id": "829e3f72",
   "metadata": {},
   "outputs": [
    {
     "name": "stdout",
     "output_type": "stream",
     "text": [
      "Exactitud --> 0.96841544\n"
     ]
    }
   ],
   "source": [
    "# Comprobacion sobre conjunto de prueba\n",
    "op = modelR.evaluate(X_test0, y_test0)\n",
    "print(\"Exactitud -->\", op[1])"
   ]
  },
  {
   "cell_type": "code",
   "execution_count": 50,
   "id": "0065d090",
   "metadata": {},
   "outputs": [],
   "source": [
    "#tf.compat.v1.disable_eager_execution()"
   ]
  },
  {
   "cell_type": "code",
   "execution_count": 51,
   "id": "1357d2f8",
   "metadata": {},
   "outputs": [],
   "source": [
    "model_class = KerasClassifier(model, clip_values=(0, 1), use_logits=False)"
   ]
  },
  {
   "cell_type": "code",
   "execution_count": 52,
   "id": "110d2bb6",
   "metadata": {},
   "outputs": [],
   "source": [
    "modelR_class = KerasClassifier(modelR, clip_values=(0, 1), use_logits=False)"
   ]
  },
  {
   "cell_type": "code",
   "execution_count": 53,
   "id": "15ef9a9d",
   "metadata": {},
   "outputs": [],
   "source": [
    "cantidad_de_ataques = BasicIterativeMethod(modelR_class, eps=60, eps_step=2, max_iter=40)"
   ]
  },
  {
   "cell_type": "code",
   "execution_count": 54,
   "id": "4a66bc92",
   "metadata": {},
   "outputs": [],
   "source": [
    "modelR_train = AdversarialTrainer(modelR_class, cantidad_de_ataques, ratio=1.0)"
   ]
  },
  {
   "cell_type": "code",
   "execution_count": 55,
   "id": "920caf5c",
   "metadata": {},
   "outputs": [],
   "source": [
    "#Necesito compilarlo antes\n",
    "#TARDA 500 ANIOS ESPERAR AL FINAL\n",
    "#modelR_train.fit(X_train, y_train, nb_epochs=2, batch_size=50)"
   ]
  },
  {
   "cell_type": "code",
   "execution_count": 56,
   "id": "a73a8515",
   "metadata": {},
   "outputs": [],
   "source": [
    "#data original\n",
    "predict_xtest0 = np.argmax(model_class.predict(X_test0), axis=1)\n",
    "predict_xtest1 = np.sum(predict_xtest0 == np.argmax(y_test0, axis=1))"
   ]
  },
  {
   "cell_type": "code",
   "execution_count": 64,
   "id": "9787cb23",
   "metadata": {},
   "outputs": [
    {
     "data": {
      "text/plain": [
       "array([22, 17,  2, ...,  7,  2,  2], dtype=int64)"
      ]
     },
     "execution_count": 64,
     "metadata": {},
     "output_type": "execute_result"
    }
   ],
   "source": [
    "predict_xtest0"
   ]
  },
  {
   "cell_type": "code",
   "execution_count": 65,
   "id": "7129643a",
   "metadata": {},
   "outputs": [
    {
     "data": {
      "text/plain": [
       "1834"
      ]
     },
     "execution_count": 65,
     "metadata": {},
     "output_type": "execute_result"
    }
   ],
   "source": [
    "predict_xtest1"
   ]
  },
  {
   "cell_type": "code",
   "execution_count": 57,
   "id": "e87d918e",
   "metadata": {},
   "outputs": [],
   "source": [
    "test_attack = FastGradientMethod(model_class, eps=100)"
   ]
  },
  {
   "cell_type": "code",
   "execution_count": 58,
   "id": "29f0259b",
   "metadata": {},
   "outputs": [],
   "source": [
    "result = test_attack.generate(X_test0)"
   ]
  },
  {
   "cell_type": "code",
   "execution_count": 59,
   "id": "76e9edee",
   "metadata": {},
   "outputs": [],
   "source": [
    "test_result = np.argmax(model_class.predict(result), axis=1)"
   ]
  },
  {
   "cell_type": "code",
   "execution_count": 60,
   "id": "a3765861",
   "metadata": {},
   "outputs": [],
   "source": [
    "result0_test = np.sum(test_result == np.argmax(y_test0, axis=1))"
   ]
  },
  {
   "cell_type": "code",
   "execution_count": 61,
   "id": "9b7724eb",
   "metadata": {},
   "outputs": [
    {
     "data": {
      "text/plain": [
       "<art.attacks.evasion.fast_gradient.FastGradientMethod at 0x238234ec6a0>"
      ]
     },
     "execution_count": 61,
     "metadata": {},
     "output_type": "execute_result"
    }
   ],
   "source": [
    "test_attack"
   ]
  },
  {
   "cell_type": "code",
   "execution_count": 62,
   "id": "18ff1dcc",
   "metadata": {},
   "outputs": [
    {
     "data": {
      "text/plain": [
       "array([[[[  0.,   0.,   0.],\n",
       "         [  0.,   0.,   0.],\n",
       "         [  0.,   0.,   0.],\n",
       "         ...,\n",
       "         [  1.,   0.,   1.],\n",
       "         [  1.,   0.,   1.],\n",
       "         [  0.,   1.,   1.]],\n",
       "\n",
       "        [[  0.,   0.,   0.],\n",
       "         [  0.,   0.,   0.],\n",
       "         [  0.,   0.,   0.],\n",
       "         ...,\n",
       "         [  0.,   1.,   1.],\n",
       "         [  1.,   1.,   0.],\n",
       "         [  0.,   0.,   0.]],\n",
       "\n",
       "        [[  1.,   1.,   1.],\n",
       "         [  1.,   1.,   0.],\n",
       "         [  1.,   1.,   1.],\n",
       "         ...,\n",
       "         [  0.,   1.,   1.],\n",
       "         [  0.,   0.,   1.],\n",
       "         [  1.,   0.,   1.]],\n",
       "\n",
       "        ...,\n",
       "\n",
       "        [[  1.,   1.,   1.],\n",
       "         [  1.,   1.,   1.],\n",
       "         [  1.,   0.,   0.],\n",
       "         ...,\n",
       "         [155., 155., 155.],\n",
       "         [  1.,   0.,   1.],\n",
       "         [ 64.,  64.,  64.]],\n",
       "\n",
       "        [[  1.,   1.,   1.],\n",
       "         [  0.,   0.,   1.],\n",
       "         [  0.,   0.,   1.],\n",
       "         ...,\n",
       "         [  0.,   1.,   0.],\n",
       "         [  1.,   1.,   1.],\n",
       "         [  0.,   0.,   0.]],\n",
       "\n",
       "        [[  1.,   1.,   0.],\n",
       "         [  1.,   1.,   0.],\n",
       "         [  1.,   1.,   1.],\n",
       "         ...,\n",
       "         [ 10.,  10.,  10.],\n",
       "         [ 21.,  21.,  21.],\n",
       "         [  1.,   1.,   1.]]],\n",
       "\n",
       "\n",
       "       [[[  1.,   1.,   0.],\n",
       "         [  1.,   0.,   1.],\n",
       "         [  0.,   0.,   1.],\n",
       "         ...,\n",
       "         [  0.,   1.,   0.],\n",
       "         [  0.,   0.,   0.],\n",
       "         [  0.,   0.,   1.]],\n",
       "\n",
       "        [[  0.,   0.,   0.],\n",
       "         [  0.,   1.,   0.],\n",
       "         [  0.,   1.,   0.],\n",
       "         ...,\n",
       "         [  0.,   0.,   0.],\n",
       "         [  0.,   0.,   0.],\n",
       "         [  0.,   1.,   0.]],\n",
       "\n",
       "        [[  1.,   1.,   1.],\n",
       "         [  1.,   1.,   1.],\n",
       "         [  1.,   1.,   1.],\n",
       "         ...,\n",
       "         [  1.,   0.,   1.],\n",
       "         [  1.,   0.,   0.],\n",
       "         [  1.,   0.,   0.]],\n",
       "\n",
       "        ...,\n",
       "\n",
       "        [[ 76.,  76.,  76.],\n",
       "         [  0.,   0.,   0.],\n",
       "         [ 57.,  57.,  57.],\n",
       "         ...,\n",
       "         [  4.,   4.,   4.],\n",
       "         [ 57.,  57.,  57.],\n",
       "         [ 97.,  97.,  97.]],\n",
       "\n",
       "        [[ 12.,  12.,  12.],\n",
       "         [  0.,   0.,   0.],\n",
       "         [ 80.,  80.,  80.],\n",
       "         ...,\n",
       "         [ 98.,  98.,  98.],\n",
       "         [  0.,   1.,   1.],\n",
       "         [  0.,   1.,   0.]],\n",
       "\n",
       "        [[  1.,   1.,   1.],\n",
       "         [  6.,   6.,   6.],\n",
       "         [  0.,   1.,   0.],\n",
       "         ...,\n",
       "         [  0.,   1.,   1.],\n",
       "         [  1.,   0.,   1.],\n",
       "         [  1.,   0.,   1.]]],\n",
       "\n",
       "\n",
       "       [[[  2.,   2.,   2.],\n",
       "         [  1.,   0.,   1.],\n",
       "         [  1.,   1.,   1.],\n",
       "         ...,\n",
       "         [ 16.,  16.,  16.],\n",
       "         [  0.,   0.,   0.],\n",
       "         [  0.,   1.,   0.]],\n",
       "\n",
       "        [[  1.,   0.,   0.],\n",
       "         [  0.,   1.,   0.],\n",
       "         [  1.,   1.,   0.],\n",
       "         ...,\n",
       "         [  1.,   0.,   0.],\n",
       "         [  0.,   1.,   0.],\n",
       "         [  0.,   0.,   1.]],\n",
       "\n",
       "        [[  0.,   0.,   0.],\n",
       "         [  0.,   0.,   0.],\n",
       "         [  0.,   0.,   0.],\n",
       "         ...,\n",
       "         [ 26.,  26.,  26.],\n",
       "         [  1.,   1.,   1.],\n",
       "         [  5.,   5.,   5.]],\n",
       "\n",
       "        ...,\n",
       "\n",
       "        [[ 33.,  33.,  33.],\n",
       "         [139., 139., 139.],\n",
       "         [153., 153., 153.],\n",
       "         ...,\n",
       "         [  1.,   1.,   1.],\n",
       "         [ 79.,  79.,  79.],\n",
       "         [  1.,   0.,   1.]],\n",
       "\n",
       "        [[ 70.,  70.,  70.],\n",
       "         [  0.,   0.,   0.],\n",
       "         [123., 123., 123.],\n",
       "         ...,\n",
       "         [  0.,   1.,   0.],\n",
       "         [  1.,   0.,   1.],\n",
       "         [138., 138., 138.]],\n",
       "\n",
       "        [[  1.,   0.,   0.],\n",
       "         [ 92.,  92.,  92.],\n",
       "         [ 89.,  89.,  89.],\n",
       "         ...,\n",
       "         [155., 155., 155.],\n",
       "         [  1.,   1.,   0.],\n",
       "         [143., 143., 143.]]],\n",
       "\n",
       "\n",
       "       ...,\n",
       "\n",
       "\n",
       "       [[[  0.,   0.,   0.],\n",
       "         [  0.,   0.,   0.],\n",
       "         [  0.,   0.,   0.],\n",
       "         ...,\n",
       "         [133., 133., 133.],\n",
       "         [  1.,   0.,   0.],\n",
       "         [ 31.,  31.,  31.]],\n",
       "\n",
       "        [[  1.,   0.,   0.],\n",
       "         [ 44.,  44.,  44.],\n",
       "         [  0.,   1.,   0.],\n",
       "         ...,\n",
       "         [  0.,   0.,   1.],\n",
       "         [155., 155., 155.],\n",
       "         [  1.,   0.,   0.]],\n",
       "\n",
       "        [[  1.,   0.,   0.],\n",
       "         [  1.,   1.,   0.],\n",
       "         [155., 155., 155.],\n",
       "         ...,\n",
       "         [  1.,   1.,   0.],\n",
       "         [ 39.,  39.,  39.],\n",
       "         [  1.,   1.,   0.]],\n",
       "\n",
       "        ...,\n",
       "\n",
       "        [[  1.,   0.,   1.],\n",
       "         [  1.,   1.,   1.],\n",
       "         [  1.,   1.,   1.],\n",
       "         ...,\n",
       "         [128., 128., 128.],\n",
       "         [117., 117., 117.],\n",
       "         [ 99.,  99.,  99.]],\n",
       "\n",
       "        [[  1.,   0.,   1.],\n",
       "         [ 16.,  16.,  16.],\n",
       "         [  1.,   0.,   0.],\n",
       "         ...,\n",
       "         [ 12.,  12.,  12.],\n",
       "         [  4.,   4.,   4.],\n",
       "         [  0.,   1.,   1.]],\n",
       "\n",
       "        [[ 16.,  16.,  16.],\n",
       "         [  7.,   7.,   7.],\n",
       "         [  5.,   5.,   5.],\n",
       "         ...,\n",
       "         [  1.,   1.,   1.],\n",
       "         [  1.,   1.,   1.],\n",
       "         [  1.,   1.,   1.]]],\n",
       "\n",
       "\n",
       "       [[[  1.,   1.,   1.],\n",
       "         [  0.,   0.,   1.],\n",
       "         [  1.,   1.,   1.],\n",
       "         ...,\n",
       "         [ 16.,  16.,  16.],\n",
       "         [  0.,   1.,   0.],\n",
       "         [  0.,   0.,   0.]],\n",
       "\n",
       "        [[  1.,   1.,   0.],\n",
       "         [  1.,   1.,   0.],\n",
       "         [  1.,   0.,   1.],\n",
       "         ...,\n",
       "         [  0.,   0.,   0.],\n",
       "         [  0.,   0.,   0.],\n",
       "         [  0.,   1.,   0.]],\n",
       "\n",
       "        [[ 97.,  97.,  97.],\n",
       "         [ 77.,  77.,  77.],\n",
       "         [ 58.,  58.,  58.],\n",
       "         ...,\n",
       "         [  1.,   0.,   0.],\n",
       "         [  1.,   1.,   1.],\n",
       "         [ 39.,  39.,  39.]],\n",
       "\n",
       "        ...,\n",
       "\n",
       "        [[  0.,   0.,   0.],\n",
       "         [ 73.,  73.,  73.],\n",
       "         [  1.,   0.,   0.],\n",
       "         ...,\n",
       "         [  0.,   0.,   0.],\n",
       "         [ 24.,  24.,  24.],\n",
       "         [137., 137., 137.]],\n",
       "\n",
       "        [[ 26.,  26.,  26.],\n",
       "         [138., 138., 138.],\n",
       "         [  0.,   0.,   1.],\n",
       "         ...,\n",
       "         [  1.,   0.,   1.],\n",
       "         [ 89.,  89.,  89.],\n",
       "         [  0.,   1.,   1.]],\n",
       "\n",
       "        [[ 91.,  91.,  91.],\n",
       "         [  1.,   1.,   0.],\n",
       "         [ 59.,  59.,  59.],\n",
       "         ...,\n",
       "         [ 42.,  42.,  42.],\n",
       "         [154., 154., 154.],\n",
       "         [ 11.,  11.,  11.]]],\n",
       "\n",
       "\n",
       "       [[[114., 114., 114.],\n",
       "         [  1.,   1.,   1.],\n",
       "         [  1.,   1.,   1.],\n",
       "         ...,\n",
       "         [ 16.,  16.,  16.],\n",
       "         [  0.,   0.,   1.],\n",
       "         [  0.,   1.,   0.]],\n",
       "\n",
       "        [[  1.,   1.,   0.],\n",
       "         [  0.,   1.,   0.],\n",
       "         [  0.,   1.,   1.],\n",
       "         ...,\n",
       "         [  0.,   0.,   0.],\n",
       "         [  0.,   0.,   0.],\n",
       "         [  0.,   0.,   0.]],\n",
       "\n",
       "        [[122., 122., 122.],\n",
       "         [ 65.,  65.,  65.],\n",
       "         [  1.,   1.,   1.],\n",
       "         ...,\n",
       "         [  1.,   0.,   0.],\n",
       "         [  1.,   0.,   0.],\n",
       "         [  1.,   0.,   1.]],\n",
       "\n",
       "        ...,\n",
       "\n",
       "        [[  2.,   2.,   2.],\n",
       "         [  0.,   0.,   0.],\n",
       "         [  1.,   1.,   0.],\n",
       "         ...,\n",
       "         [  1.,   0.,   0.],\n",
       "         [109., 109., 109.],\n",
       "         [  1.,   1.,   1.]],\n",
       "\n",
       "        [[ 66.,  66.,  66.],\n",
       "         [ 70.,  70.,  70.],\n",
       "         [122., 122., 122.],\n",
       "         ...,\n",
       "         [  0.,   1.,   1.],\n",
       "         [ 64.,  64.,  64.],\n",
       "         [  0.,   1.,   1.]],\n",
       "\n",
       "        [[  1.,   0.,   1.],\n",
       "         [  2.,   2.,   2.],\n",
       "         [ 50.,  50.,  50.],\n",
       "         ...,\n",
       "         [114., 114., 114.],\n",
       "         [  0.,   0.,   0.],\n",
       "         [138., 138., 138.]]]], dtype=float32)"
      ]
     },
     "execution_count": 62,
     "metadata": {},
     "output_type": "execute_result"
    }
   ],
   "source": [
    "result"
   ]
  },
  {
   "cell_type": "code",
   "execution_count": 63,
   "id": "58fa0f7b",
   "metadata": {},
   "outputs": [
    {
     "data": {
      "text/plain": [
       "654"
      ]
     },
     "execution_count": 63,
     "metadata": {},
     "output_type": "execute_result"
    }
   ],
   "source": [
    "result0_test"
   ]
  },
  {
   "cell_type": "code",
   "execution_count": null,
   "id": "0b844349",
   "metadata": {},
   "outputs": [],
   "source": [
    "print(\"Clasificados correctamente: {}\".format(test_result))\n",
    "print(\"Clasificados incorrectamente: {}\".format(len(X_test0)-result0_test))\n",
    "print(\"Porcentaje: {}\".format(result0_test/len(X_test0)))"
   ]
  },
  {
   "cell_type": "markdown",
   "id": "a111af75",
   "metadata": {},
   "source": [
    "### Modelo robado del modelo original"
   ]
  },
  {
   "cell_type": "code",
   "execution_count": 68,
   "id": "fc554308",
   "metadata": {},
   "outputs": [],
   "source": [
    "attack_catalogue = {\"Probabilistic CopycatCNN\": CopycatCNN(classifier=model_class,\n",
    "                                              batch_size_fit=128,\n",
    "                                              batch_size_query=128,\n",
    "                                              nb_epochs=5,\n",
    "                                              nb_stolen=2500,\n",
    "                                              use_probability=True),\n",
    "                    \"Probabilistic KnockoffNets\": KnockoffNets(classifier=model_class,\n",
    "                                              batch_size_fit=128,\n",
    "                                              batch_size_query=128,\n",
    "                                              nb_epochs=5,\n",
    "                                              nb_stolen=2500,\n",
    "                                              use_probability=True)\n",
    "                   }\n"
   ]
  },
  {
   "cell_type": "code",
   "execution_count": 73,
   "id": "cba67b3a",
   "metadata": {},
   "outputs": [
    {
     "name": "stdout",
     "output_type": "stream",
     "text": [
      "Train on 250 samples\n",
      "Epoch 1/5\n",
      "250/250 [==============================] - 5s 20ms/sample - loss: 0.0422 - accuracy: 1.0000\n",
      "Epoch 2/5\n",
      "250/250 [==============================] - 5s 21ms/sample - loss: 0.0418 - accuracy: 1.0000\n",
      "Epoch 3/5\n",
      "250/250 [==============================] - 5s 21ms/sample - loss: 0.0418 - accuracy: 1.0000\n",
      "Epoch 4/5\n",
      "250/250 [==============================] - 5s 21ms/sample - loss: 0.0424 - accuracy: 0.9920\n",
      "Epoch 5/5\n",
      "250/250 [==============================] - 5s 22ms/sample - loss: 0.0420 - accuracy: 1.0000\n",
      "Probabilistic CopycatCNN -->  0.9789864\n",
      "Probabilistic KnockoffNets -->  0.9789864\n",
      "Train on 500 samples\n",
      "Epoch 1/5\n",
      "500/500 [==============================] - 11s 22ms/sample - loss: 0.0474 - accuracy: 0.9960\n",
      "Epoch 2/5\n",
      "500/500 [==============================] - 11s 22ms/sample - loss: 0.0480 - accuracy: 0.9920\n",
      "Epoch 3/5\n",
      "500/500 [==============================] - 11s 22ms/sample - loss: 0.0479 - accuracy: 0.9940\n",
      "Epoch 4/5\n",
      "500/500 [==============================] - 13s 25ms/sample - loss: 0.0475 - accuracy: 0.9940\n",
      "Epoch 5/5\n",
      "500/500 [==============================] - 13s 26ms/sample - loss: 0.0469 - accuracy: 0.9940\n",
      "Probabilistic CopycatCNN -->  0.9780702\n",
      "Probabilistic KnockoffNets -->  0.9773392\n",
      "Train on 1000 samples\n",
      "Epoch 1/5\n",
      "1000/1000 [==============================] - 28s 28ms/sample - loss: 0.0370 - accuracy: 0.9980\n",
      "Epoch 2/5\n",
      "1000/1000 [==============================] - 27s 27ms/sample - loss: 0.0372 - accuracy: 0.9950\n",
      "Epoch 3/5\n",
      "1000/1000 [==============================] - 27s 27ms/sample - loss: 0.0370 - accuracy: 0.9980\n",
      "Epoch 4/5\n",
      "1000/1000 [==============================] - 27s 27ms/sample - loss: 0.0382 - accuracy: 0.9970\n",
      "Epoch 5/5\n",
      "1000/1000 [==============================] - 28s 28ms/sample - loss: 0.0367 - accuracy: 0.9980\n",
      "Probabilistic CopycatCNN -->  0.9735023\n",
      "Probabilistic KnockoffNets -->  0.97235024\n",
      "Train on 1500 samples\n",
      "Epoch 1/5\n",
      "1500/1500 [==============================] - 42s 28ms/sample - loss: 0.0373 - accuracy: 0.9967\n",
      "Epoch 2/5\n",
      "1500/1500 [==============================] - 37s 25ms/sample - loss: 0.0380 - accuracy: 0.9947\n",
      "Epoch 3/5\n",
      "1500/1500 [==============================] - 35s 23ms/sample - loss: 0.0380 - accuracy: 0.9967\n",
      "Epoch 4/5\n",
      "1500/1500 [==============================] - 34s 23ms/sample - loss: 0.0377 - accuracy: 0.9967\n",
      "Epoch 5/5\n",
      "1500/1500 [==============================] - 35s 23ms/sample - loss: 0.0378 - accuracy: 0.9980\n",
      "Probabilistic CopycatCNN -->  0.96467394\n",
      "Probabilistic KnockoffNets -->  0.96467394\n",
      "Train on 1800 samples\n",
      "Epoch 1/5\n",
      "1800/1800 [==============================] - 50s 28ms/sample - loss: 0.0444 - accuracy: 0.9967\n",
      "Epoch 2/5\n",
      "1800/1800 [==============================] - 49s 27ms/sample - loss: 0.0442 - accuracy: 0.9944\n",
      "Epoch 3/5\n",
      "1800/1800 [==============================] - 48s 26ms/sample - loss: 0.0443 - accuracy: 0.9961\n",
      "Epoch 4/5\n",
      "1800/1800 [==============================] - 49s 27ms/sample - loss: 0.0446 - accuracy: 0.9944\n",
      "Epoch 5/5\n",
      "1800/1800 [==============================] - 50s 28ms/sample - loss: 0.0446 - accuracy: 0.9967\n",
      "Probabilistic CopycatCNN -->  0.9705882\n",
      "Probabilistic KnockoffNets -->  0.9705882\n"
     ]
    }
   ],
   "source": [
    "results = []\n",
    "for len_steal in [250, 500, 1000,1500,1800]:\n",
    "    indices = np.random.permutation(len(X_test0))\n",
    "    x_steal = X_test0[indices[:len_steal]]\n",
    "    y_steal = y_test0[indices[:len_steal]]\n",
    "    x_test = X_test0[indices[len_steal:]]\n",
    "    y_test = y_test0[indices[len_steal:]]\n",
    "\n",
    "    for name, attack in attack_catalogue.items():\n",
    "        model_stolen = model\n",
    "        classifier_stolen = KerasClassifier(model_stolen, clip_values=(0, 1), use_logits=False)\n",
    "        classifier_stolen = attack.extract(x_steal, y_steal, thieved_classifier=classifier_stolen)\n",
    "        acc = classifier_stolen._model.evaluate(x_test, y_test)[1]\n",
    "        print(name, \"--> \", acc)\n",
    "        results.append((name, len_steal, acc))"
   ]
  },
  {
   "cell_type": "code",
   "execution_count": 90,
   "id": "ad88a4e4",
   "metadata": {},
   "outputs": [
    {
     "data": {
      "image/png": "[encoded data removed]",
      "text/plain": [
       "<Figure size 720x720 with 1 Axes>"
      ]
     },
     "metadata": {
      "needs_background": "light"
     },
     "output_type": "display_data"
    }
   ],
   "source": [
    "df = pd.DataFrame(\n",
    "    results, \n",
    "    columns=('Method Name', \n",
    "             'Stealing Dataset Size', \n",
    "             'Accuracy'))\n",
    "\n",
    "fig, ax = plt.subplots(figsize=(10,10))\n",
    "ax.set_xlabel(\"Tamaño\")\n",
    "ax.set_ylabel(\"Precisión del modelo\")\n",
    "for name, group in df.groupby(\"Method Name\"):group.plot(1, 2, ax=ax, label=name)\n",
    "plt.show()"
   ]
  },
  {
   "cell_type": "markdown",
   "id": "a479f54e",
   "metadata": {},
   "source": [
    "## Modelo Protegido"
   ]
  },
  {
   "cell_type": "code",
   "execution_count": 75,
   "id": "7d3a8ca9",
   "metadata": {},
   "outputs": [],
   "source": [
    "post_processor = ReverseSigmoid(beta = 1.0, gamma = 0.2)"
   ]
  },
  {
   "cell_type": "code",
   "execution_count": 76,
   "id": "a39286ce",
   "metadata": {},
   "outputs": [],
   "source": [
    "protect_class = KerasClassifier(model, clip_values=(0, 1), use_logits=False, postprocessing_defences=post_processor)"
   ]
  },
  {
   "cell_type": "code",
   "execution_count": 78,
   "id": "27b4a044",
   "metadata": {},
   "outputs": [],
   "source": [
    "modelP = Sequential([InputLayer([128, 128, 3]), Reshape([128, 128, 3]), model])"
   ]
  },
  {
   "cell_type": "code",
   "execution_count": 79,
   "id": "738e317f",
   "metadata": {},
   "outputs": [],
   "source": [
    "modelP.compile('SGD', 'categorical_crossentropy', ['accuracy'])"
   ]
  },
  {
   "cell_type": "code",
   "execution_count": 80,
   "id": "aac61d70",
   "metadata": {},
   "outputs": [],
   "source": [
    "modelP_class = KerasClassifier(modelP, clip_values=(0, 1), use_logits=False, postprocessing_defences=post_processor)"
   ]
  },
  {
   "cell_type": "code",
   "execution_count": 81,
   "id": "7c324231",
   "metadata": {},
   "outputs": [],
   "source": [
    "attack_catalogue = {\n",
    "                    \"Probabilistic CopycatCNN Protected\": CopycatCNN(classifier=protect_class,\n",
    "                                              batch_size_fit=128,\n",
    "                                              batch_size_query=128,\n",
    "                                              nb_epochs=5,\n",
    "                                              nb_stolen=2500,\n",
    "                                              use_probability=True),\n",
    "                    \"Argmax CopycatCNN Protected\": CopycatCNN(classifier=protect_class,\n",
    "                                              batch_size_fit=128,\n",
    "                                              batch_size_query=128,\n",
    "                                              nb_epochs=5,\n",
    "                                              nb_stolen=2500,\n",
    "                                              use_probability=False),\n",
    "                    \"Probabilistic KnockoffNets Protected\": KnockoffNets(classifier=protect_class,\n",
    "                                              batch_size_fit=128,\n",
    "                                              batch_size_query=128,\n",
    "                                              nb_epochs=5,\n",
    "                                              nb_stolen=2500,\n",
    "                                              use_probability=True),\n",
    "                    \"Argmax KnockoffNets Protected\": KnockoffNets(classifier=protect_class,\n",
    "                                              batch_size_fit=128,\n",
    "                                              batch_size_query=128,\n",
    "                                              nb_epochs=5,\n",
    "                                              nb_stolen=2500,\n",
    "                                              use_probability=False),\n",
    "}"
   ]
  },
  {
   "cell_type": "code",
   "execution_count": 82,
   "id": "b6be148d",
   "metadata": {},
   "outputs": [
    {
     "name": "stderr",
     "output_type": "stream",
     "text": [
      "C:\\ProgramData\\Anaconda3\\lib\\site-packages\\art\\defences\\postprocessor\\reverse_sigmoid.py:75: RuntimeWarning: divide by zero encountered in log\n",
      "  perturbation_r = self.beta * (sigmoid(-self.gamma * np.log((1.0 - preds_clipped) / preds_clipped)) - 0.5)\n"
     ]
    },
    {
     "name": "stdout",
     "output_type": "stream",
     "text": [
      "Train on 250 samples\n",
      "Epoch 1/5\n",
      "250/250 [==============================] - 3s 12ms/sample - loss: 19.3254 - accuracy: 0.9480\n",
      "Epoch 2/5\n",
      "250/250 [==============================] - 3s 10ms/sample - loss: 4.8412 - accuracy: 0.7920\n",
      "Epoch 3/5\n",
      "250/250 [==============================] - 2s 10ms/sample - loss: 3.3172 - accuracy: 0.0920\n",
      "Epoch 4/5\n",
      "250/250 [==============================] - 2s 10ms/sample - loss: 3.2458 - accuracy: 0.0280\n",
      "Epoch 5/5\n",
      "250/250 [==============================] - 3s 10ms/sample - loss: 3.2289 - accuracy: 0.0520\n",
      "Probabilistic CopycatCNN Protected --> 0.008652657\n",
      "Train on 250 samples\n",
      "Epoch 1/5\n",
      "250/250 [==============================] - 2s 9ms/sample - loss: 3.1419 - accuracy: 0.2160\n",
      "Epoch 2/5\n",
      "250/250 [==============================] - 2s 9ms/sample - loss: 2.3806 - accuracy: 0.2760\n",
      "Epoch 3/5\n",
      "250/250 [==============================] - 2s 9ms/sample - loss: 2.2298 - accuracy: 0.2400\n",
      "Epoch 4/5\n",
      "250/250 [==============================] - 2s 9ms/sample - loss: 2.1754 - accuracy: 0.4080\n",
      "Epoch 5/5\n",
      "250/250 [==============================] - 2s 10ms/sample - loss: 1.9955 - accuracy: 0.4360\n",
      "Argmax CopycatCNN Protected --> 0.46786156\n",
      "Probabilistic KnockoffNets Protected --> 0.19777504\n",
      "Argmax KnockoffNets Protected --> 0.43077874\n",
      "Train on 500 samples\n",
      "Epoch 1/5\n",
      "500/500 [==============================] - 5s 11ms/sample - loss: 3.5758 - accuracy: 0.4400\n",
      "Epoch 2/5\n",
      "500/500 [==============================] - 5s 11ms/sample - loss: 3.2295 - accuracy: 0.1060\n",
      "Epoch 3/5\n",
      "500/500 [==============================] - 5s 11ms/sample - loss: 3.2230 - accuracy: 0.0460\n",
      "Epoch 4/5\n",
      "500/500 [==============================] - 5s 10ms/sample - loss: 3.2208 - accuracy: 0.0260\n",
      "Epoch 5/5\n",
      "500/500 [==============================] - 5s 10ms/sample - loss: 3.2198 - accuracy: 0.0820\n",
      "Probabilistic CopycatCNN Protected --> 0.16666667\n",
      "Train on 500 samples\n",
      "Epoch 1/5\n",
      "500/500 [==============================] - 5s 11ms/sample - loss: 3.1322 - accuracy: 0.2080\n",
      "Epoch 2/5\n",
      "500/500 [==============================] - 6s 11ms/sample - loss: 2.7179 - accuracy: 0.2240\n",
      "Epoch 3/5\n",
      "500/500 [==============================] - 5s 11ms/sample - loss: 1.7550 - accuracy: 0.5660\n",
      "Epoch 4/5\n",
      "500/500 [==============================] - 5s 11ms/sample - loss: 0.9885 - accuracy: 0.7140\n",
      "Epoch 5/5\n",
      "500/500 [==============================] - 5s 10ms/sample - loss: 1.1391 - accuracy: 0.6020\n",
      "Argmax CopycatCNN Protected --> 0.68494153\n",
      "Probabilistic KnockoffNets Protected --> 0.31578946\n",
      "Argmax KnockoffNets Protected --> 0.40204677\n",
      "Train on 1000 samples\n",
      "Epoch 1/5\n",
      "1000/1000 [==============================] - 11s 11ms/sample - loss: 3.5050 - accuracy: 0.4990\n",
      "Epoch 2/5\n",
      "1000/1000 [==============================] - 11s 11ms/sample - loss: 3.2480 - accuracy: 0.4260\n",
      "Epoch 3/5\n",
      "1000/1000 [==============================] - 11s 11ms/sample - loss: 3.2351 - accuracy: 0.3560\n",
      "Epoch 4/5\n",
      "1000/1000 [==============================] - 11s 11ms/sample - loss: 3.2308 - accuracy: 0.3620\n",
      "Epoch 5/5\n",
      "1000/1000 [==============================] - 12s 12ms/sample - loss: 3.2267 - accuracy: 0.3630\n",
      "Probabilistic CopycatCNN Protected --> 0.37442395\n",
      "Train on 1000 samples\n",
      "Epoch 1/5\n",
      "1000/1000 [==============================] - 10s 10ms/sample - loss: 2.9325 - accuracy: 0.4360\n",
      "Epoch 2/5\n",
      "1000/1000 [==============================] - 10s 10ms/sample - loss: 2.7776 - accuracy: 0.4740\n",
      "Epoch 3/5\n",
      "1000/1000 [==============================] - 10s 10ms/sample - loss: 1.9667 - accuracy: 0.5300\n",
      "Epoch 4/5\n",
      "1000/1000 [==============================] - 10s 10ms/sample - loss: 0.9075 - accuracy: 0.7310\n",
      "Epoch 5/5\n",
      "1000/1000 [==============================] - 10s 10ms/sample - loss: 0.7316 - accuracy: 0.7830\n",
      "Argmax CopycatCNN Protected --> 0.83870965\n",
      "Probabilistic KnockoffNets Protected --> 0.3329493\n",
      "Argmax KnockoffNets Protected --> 0.671659\n",
      "Train on 1500 samples\n",
      "Epoch 1/5\n",
      "1500/1500 [==============================] - 15s 10ms/sample - loss: 4.0121 - accuracy: 0.4413\n",
      "Epoch 2/5\n",
      "1500/1500 [==============================] - 16s 11ms/sample - loss: 3.2559 - accuracy: 0.2920\n",
      "Epoch 3/5\n",
      "1500/1500 [==============================] - 18s 12ms/sample - loss: 3.2273 - accuracy: 0.3473\n",
      "Epoch 4/5\n",
      "1500/1500 [==============================] - 18s 12ms/sample - loss: 3.2220 - accuracy: 0.3427\n",
      "Epoch 5/5\n",
      "1500/1500 [==============================] - 16s 11ms/sample - loss: 3.2205 - accuracy: 0.3420\n",
      "Probabilistic CopycatCNN Protected --> 0.36141303\n",
      "Train on 1500 samples\n",
      "Epoch 1/5\n",
      "1500/1500 [==============================] - 18s 12ms/sample - loss: 2.4019 - accuracy: 0.4273\n",
      "Epoch 2/5\n",
      "1500/1500 [==============================] - 18s 12ms/sample - loss: 1.7746 - accuracy: 0.5127\n",
      "Epoch 3/5\n",
      "1500/1500 [==============================] - 17s 12ms/sample - loss: 1.2300 - accuracy: 0.6187\n",
      "Epoch 4/5\n",
      "1500/1500 [==============================] - 19s 13ms/sample - loss: 0.7832 - accuracy: 0.7493\n",
      "Epoch 5/5\n",
      "1500/1500 [==============================] - 17s 12ms/sample - loss: 0.5959 - accuracy: 0.8207\n",
      "Argmax CopycatCNN Protected --> 0.7961956\n",
      "Probabilistic KnockoffNets Protected --> 0.46195653\n",
      "Argmax KnockoffNets Protected --> 0.8913044\n",
      "Train on 1800 samples\n",
      "Epoch 1/5\n",
      "1800/1800 [==============================] - 22s 12ms/sample - loss: 4.4207 - accuracy: 0.4389\n",
      "Epoch 2/5\n",
      "1800/1800 [==============================] - 22s 12ms/sample - loss: 3.2567 - accuracy: 0.2539\n",
      "Epoch 3/5\n",
      "1800/1800 [==============================] - 23s 13ms/sample - loss: 3.2231 - accuracy: 0.4228\n",
      "Epoch 4/5\n",
      "1800/1800 [==============================] - 23s 13ms/sample - loss: 3.2194 - accuracy: 0.4811\n",
      "Epoch 5/5\n",
      "1800/1800 [==============================] - 21s 12ms/sample - loss: 3.2182 - accuracy: 0.5661\n",
      "Probabilistic CopycatCNN Protected --> 0.47058824\n",
      "Train on 1800 samples\n",
      "Epoch 1/5\n",
      "1800/1800 [==============================] - 23s 13ms/sample - loss: 1.5840 - accuracy: 0.6222\n",
      "Epoch 2/5\n",
      "1800/1800 [==============================] - 22s 12ms/sample - loss: 1.1030 - accuracy: 0.6528\n",
      "Epoch 3/5\n",
      "1800/1800 [==============================] - 22s 12ms/sample - loss: 0.7201 - accuracy: 0.7517\n",
      "Epoch 4/5\n",
      "1800/1800 [==============================] - 23s 13ms/sample - loss: 0.3325 - accuracy: 0.8983\n",
      "Epoch 5/5\n",
      "1800/1800 [==============================] - 22s 12ms/sample - loss: 0.1812 - accuracy: 0.9439\n",
      "Argmax CopycatCNN Protected --> 0.88235295\n",
      "Probabilistic KnockoffNets Protected --> 0.36764705\n",
      "Argmax KnockoffNets Protected --> 0.8382353\n"
     ]
    }
   ],
   "source": [
    "resultsPr = []\n",
    "for len_steal in [250, 500, 1000, 1500, 1800]:\n",
    "    indices = np.random.permutation(len(X_test0))\n",
    "    x_steal = X_test0[indices[:len_steal]]\n",
    "    y_steal = y_test0[indices[:len_steal]]\n",
    "    x_test = X_test0[indices[len_steal:]]\n",
    "    y_test = y_test0[indices[len_steal:]]\n",
    "\n",
    "    for name, attack in attack_catalogue.items():\n",
    "        model_stolen = modelR\n",
    "        classifier_stolen = KerasClassifier(model_stolen, clip_values=(0, 1), use_logits=False)\n",
    "        if name==\"FunctionallyEquivalentExtraction\":classifier_stolen = attack.extract(np.reshape(x_steal, [len(x_steal), -1]), y_steal, thieved_classifier=classifier_stolen)\n",
    "        else:classifier_stolen = attack.extract(x_steal, y_steal, thieved_classifier=classifier_stolen)\n",
    "        acc = classifier_stolen._model.evaluate(x_test, y_test)[1]\n",
    "        print(name, \"-->\", acc)\n",
    "        resultsPr.append((name, len_steal, acc))"
   ]
  },
  {
   "cell_type": "code",
   "execution_count": 87,
   "id": "e4aed130",
   "metadata": {},
   "outputs": [
    {
     "data": {
      "image/png": "[encoded data removed]",
      "text/plain": [
       "<Figure size 720x720 with 1 Axes>"
      ]
     },
     "metadata": {
      "needs_background": "light"
     },
     "output_type": "display_data"
    }
   ],
   "source": [
    "df_protected = pd.DataFrame(\n",
    "    resultsPr, \n",
    "    columns=('Method Name', \n",
    "             'Stealing Dataset Size', \n",
    "             'Accuracy'))\n",
    "\n",
    "fig, ax = plt.subplots(figsize=(10,10))\n",
    "ax.set_xlabel(\"Tamaño\")\n",
    "ax.set_ylabel(\"Precisión del modelo\")\n",
    "for name, group in df_protected.groupby(\"Method Name\"):group.plot(1, 2, ax=ax, label=name)\n",
    "plt.show()\n",
    "\n"
   ]
  },
  {
   "cell_type": "code",
   "execution_count": null,
   "id": "fd8677b6",
   "metadata": {},
   "outputs": [],
   "source": []
  },
  {
   "cell_type": "code",
   "execution_count": null,
   "id": "b94f7045",
   "metadata": {},
   "outputs": [],
   "source": []
  }
 ],
 "metadata": {
  "kernelspec": {
   "display_name": "Python 3",
   "language": "python",
   "name": "python3"
  },
  "language_info": {
   "codemirror_mode": {
    "name": "ipython",
    "version": 3
   },
   "file_extension": ".py",
   "mimetype": "text/x-python",
   "name": "python",
   "nbconvert_exporter": "python",
   "pygments_lexer": "ipython3",
   "version": "3.8.8"
  }
 },
 "nbformat": 4,
 "nbformat_minor": 5
}
