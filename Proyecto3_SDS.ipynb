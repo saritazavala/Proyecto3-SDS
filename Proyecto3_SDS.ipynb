{
 "cells": [
  {
   "cell_type": "markdown",
   "id": "ea89ef52",
   "metadata": {},
   "source": [
    "## Proyecto 3 - SDS\n",
    "### Sara Zavala"
   ]
  },
  {
   "cell_type": "code",
   "execution_count": 1,
   "id": "6397b064",
   "metadata": {},
   "outputs": [],
   "source": [
    "##Ataque de extracción "
   ]
  },
  {
   "cell_type": "code",
   "execution_count": null,
   "id": "539efb01",
   "metadata": {},
   "outputs": [],
   "source": [
    "import pprint\n",
    "import numpy as np\n",
    "import pandas as pd\n",
    "import seaborn as sns\n",
    "import tensorflow as tf\n",
    "import matplotlib.pyplot as plt\n",
    "from tensorflow import keras\n",
    "from sklearn.utils import class_weight\n",
    "from sklearn import *\n",
    "from matplotlib.path import Path\n",
    "from matplotlib.patches import PathPatch\n",
    "from sklearn.datasets import make_classification\n",
    "from sklearn.metrics import confusion_matrix,classification_report\n",
    "from sklearn.model_selection import train_test_split\n",
    "from keras.preprocessing.image import ImageDataGenerator\n",
    "from art.estimators.classification import KerasClassifier\n",
    "import tensorflow as tf\n",
    "from tensorflow.python.framework.ops import disable_eager_execution\n",
    "from art.attacks.evasion import FastGradientMethod\n",
    "from art.attacks.evasion import BasicIterativeMethod\n",
    "from art.defences.trainer import AdversarialTrainer\n",
    "from art.estimators.classification import TensorFlowV2Classifier\n"
   ]
  },
  {
   "cell_type": "code",
   "execution_count": null,
   "id": "c01b47a0",
   "metadata": {},
   "outputs": [],
   "source": [
    "tf.compat.v1.disable_eager_execution()"
   ]
  },
  {
   "cell_type": "code",
   "execution_count": null,
   "id": "3b808a0e",
   "metadata": {},
   "outputs": [],
   "source": [
    "path = (\"malimg_paper_dataset_imgs\")"
   ]
  },
  {
   "cell_type": "code",
   "execution_count": null,
   "id": "3270ca43",
   "metadata": {},
   "outputs": [],
   "source": [
    "path_images = ImageDataGenerator().flow_from_directory(directory=path, target_size=(128,128), batch_size=10000)"
   ]
  },
  {
   "cell_type": "code",
   "execution_count": null,
   "id": "f3a0cc55",
   "metadata": {},
   "outputs": [],
   "source": []
  },
  {
   "cell_type": "markdown",
   "id": "3e42fdd4",
   "metadata": {},
   "source": [
    "Ataque de evasión \n",
    "1. Se debe mostrar un entrenamiento y predicción del modelo original \n",
    "2. Utilizando el ataque de evasión Fast Gradient Method genere observaciones falsas \n",
    "3. Muestre  la  cantidad  de  observaciones  generadas  que  fueron  clasificadas  correcta  e \n",
    "incorrectamente \n",
    "4. Explique con detalle los resultados obtenidos. ¿Cómo podría proteger su modelo ante este \n",
    "tipo de ataques? \n",
    "5. Realce las modificaciones que considere pertinentes para hacer su modelo robusto contra este  tipo  de  ataques  (puede  modificar  el  modelo  original,  así  como  el  dataset  de entrenamiento). Repita los pasos 1 al 3 con el nuevo modelo robusto y demuestre que es menos susceptible a equivocarse con observaciones generadas "
   ]
  },
  {
   "cell_type": "code",
   "execution_count": null,
   "id": "aafa1996",
   "metadata": {},
   "outputs": [],
   "source": [
    "path_images.class_indices"
   ]
  },
  {
   "cell_type": "code",
   "execution_count": null,
   "id": "aa7abc1a",
   "metadata": {},
   "outputs": [],
   "source": [
    "data = path_images.class_indices\n",
    "data2 = list(data.values())\n",
    "print(len(data2)-1)"
   ]
  },
  {
   "cell_type": "code",
   "execution_count": null,
   "id": "61457fff",
   "metadata": {},
   "outputs": [],
   "source": [
    "# x, y = next(batches)\n",
    "images, marks = next(path_images)"
   ]
  },
  {
   "cell_type": "code",
   "execution_count": null,
   "id": "4369d0c4",
   "metadata": {},
   "outputs": [],
   "source": [
    "images.shape"
   ]
  },
  {
   "cell_type": "code",
   "execution_count": null,
   "id": "22cc6b44",
   "metadata": {},
   "outputs": [],
   "source": [
    "images.size"
   ]
  },
  {
   "cell_type": "code",
   "execution_count": null,
   "id": "d1b3a007",
   "metadata": {},
   "outputs": [],
   "source": [
    "marks.size"
   ]
  },
  {
   "cell_type": "code",
   "execution_count": null,
   "id": "f5b39c1e",
   "metadata": {},
   "outputs": [],
   "source": [
    "print('Images size --> ', images.itemsize)\n",
    "print('Marks --> ',marks.itemsize)"
   ]
  },
  {
   "cell_type": "code",
   "execution_count": null,
   "id": "f5a1af6d",
   "metadata": {},
   "outputs": [],
   "source": [
    "images"
   ]
  },
  {
   "cell_type": "code",
   "execution_count": null,
   "id": "06b78a41",
   "metadata": {},
   "outputs": [],
   "source": [
    "marks"
   ]
  },
  {
   "cell_type": "code",
   "execution_count": null,
   "id": "8cc70331",
   "metadata": {},
   "outputs": [],
   "source": [
    "## Entrenamiento y prediccion"
   ]
  },
  {
   "cell_type": "code",
   "execution_count": null,
   "id": "35d79d3c",
   "metadata": {},
   "outputs": [],
   "source": [
    "X_train, X_test0, y_train, y_test0 = train_test_split(images, marks, test_size = 0.2)"
   ]
  },
  {
   "cell_type": "code",
   "execution_count": null,
   "id": "5a7510ec",
   "metadata": {},
   "outputs": [],
   "source": [
    "## TRAIN"
   ]
  },
  {
   "cell_type": "code",
   "execution_count": null,
   "id": "5434cedd",
   "metadata": {},
   "outputs": [],
   "source": [
    "X_train.shape"
   ]
  },
  {
   "cell_type": "code",
   "execution_count": null,
   "id": "6e6d4e4f",
   "metadata": {},
   "outputs": [],
   "source": [
    "y_train.shape"
   ]
  },
  {
   "cell_type": "code",
   "execution_count": null,
   "id": "486eb040",
   "metadata": {},
   "outputs": [],
   "source": [
    "## TEST"
   ]
  },
  {
   "cell_type": "code",
   "execution_count": null,
   "id": "94a1dba7",
   "metadata": {},
   "outputs": [],
   "source": [
    "X_test0.shape"
   ]
  },
  {
   "cell_type": "code",
   "execution_count": null,
   "id": "4e386260",
   "metadata": {},
   "outputs": [],
   "source": [
    "y_test0.shape"
   ]
  },
  {
   "cell_type": "code",
   "execution_count": null,
   "id": "65e89aa2",
   "metadata": {},
   "outputs": [],
   "source": [
    "## Modelo Original"
   ]
  },
  {
   "cell_type": "code",
   "execution_count": null,
   "id": "e156222c",
   "metadata": {},
   "outputs": [],
   "source": [
    "model = keras.Sequential()\n",
    "model.add(keras.layers.Conv2D(32, (5, 5), input_shape=(128, 128, 3), activation='relu', padding='same'))\n",
    "model.add(keras.layers.MaxPooling2D(2))\n",
    "model.add(keras.layers.Dropout(0.2))\n",
    "model.add(keras.layers.BatchNormalization())\n",
    "model.add(keras.layers.Conv2D(64, (3, 3), activation='relu'))\n",
    "model.add(keras.layers.Conv2D(128, (3, 3), activation='relu'))\n",
    "model.add(keras.layers.Flatten())\n",
    "model.add(keras.layers.Dense(128, activation='relu'))\n",
    "model.add(keras.layers.Dense(25, activation='softmax'))"
   ]
  },
  {
   "cell_type": "code",
   "execution_count": null,
   "id": "2b0d0504",
   "metadata": {},
   "outputs": [],
   "source": [
    "# Compile\n",
    "# https://faroit.com/keras-docs/2.1.3/models/sequential/\n",
    "model.compile(loss='categorical_crossentropy',optimizer='SGD',metrics=['accuracy'])"
   ]
  },
  {
   "cell_type": "code",
   "execution_count": null,
   "id": "98ca3162",
   "metadata": {},
   "outputs": [],
   "source": [
    "model.summary()"
   ]
  },
  {
   "cell_type": "code",
   "execution_count": null,
   "id": "4d3b3a97",
   "metadata": {},
   "outputs": [],
   "source": [
    "model.layers"
   ]
  },
  {
   "cell_type": "code",
   "execution_count": null,
   "id": "580c1726",
   "metadata": {},
   "outputs": [],
   "source": [
    "model.fit(X_train, y_train, batch_size=10, validation_data=(X_test0, y_test0), epochs=5)"
   ]
  },
  {
   "cell_type": "code",
   "execution_count": null,
   "id": "9c97553a",
   "metadata": {},
   "outputs": [],
   "source": [
    "## Modelo Robusto"
   ]
  },
  {
   "cell_type": "code",
   "execution_count": null,
   "id": "3e725842",
   "metadata": {},
   "outputs": [],
   "source": [
    "modelR = keras.Sequential()\n",
    "modelR.add(keras.layers.Conv2D(32, (5, 5), input_shape=(128, 128, 3), activation='relu', padding='same'))\n",
    "modelR.add(keras.layers.MaxPooling2D(2))\n",
    "modelR.add(keras.layers.Dropout(0.2))\n",
    "modelR.add(keras.layers.BatchNormalization())\n",
    "modelR.add(keras.layers.Conv2D(64, (3, 3), activation='relu'))\n",
    "modelR.add(keras.layers.Conv2D(128, (3, 3), activation='relu'))\n",
    "modelR.add(keras.layers.Flatten())\n",
    "modelR.add(keras.layers.Dense(1024, activation='relu'))\n",
    "modelR.add(keras.layers.Dense(25, activation='softmax'))"
   ]
  },
  {
   "cell_type": "code",
   "execution_count": null,
   "id": "3546e842",
   "metadata": {},
   "outputs": [],
   "source": [
    "modelR.compile(loss='categorical_crossentropy',optimizer='SGD',metrics=['accuracy'])"
   ]
  },
  {
   "cell_type": "code",
   "execution_count": null,
   "id": "6a48e254",
   "metadata": {},
   "outputs": [],
   "source": [
    "modelR.summary()"
   ]
  },
  {
   "cell_type": "code",
   "execution_count": null,
   "id": "01852c25",
   "metadata": {},
   "outputs": [],
   "source": [
    "modelR.layers"
   ]
  },
  {
   "cell_type": "code",
   "execution_count": null,
   "id": "dec3c93a",
   "metadata": {},
   "outputs": [],
   "source": [
    "modelR.fit(X_train, y_train, batch_size=10, validation_data=(X_test0, y_test0), epochs=2)"
   ]
  },
  {
   "cell_type": "code",
   "execution_count": null,
   "id": "6b93f362",
   "metadata": {},
   "outputs": [],
   "source": [
    "print(modelR.optimizer)"
   ]
  },
  {
   "cell_type": "code",
   "execution_count": null,
   "id": "2e6655da",
   "metadata": {},
   "outputs": [],
   "source": [
    "print(modelR.metrics)"
   ]
  },
  {
   "cell_type": "code",
   "execution_count": null,
   "id": "829e3f72",
   "metadata": {},
   "outputs": [],
   "source": [
    "# Comprobacion sobre conjunto de prueba\n",
    "op = modelR.evaluate(X_test0, y_test0)\n",
    "print(\"Exactitud -->\", op[1])"
   ]
  },
  {
   "cell_type": "code",
   "execution_count": null,
   "id": "0065d090",
   "metadata": {},
   "outputs": [],
   "source": [
    "#tf.compat.v1.disable_eager_execution()"
   ]
  },
  {
   "cell_type": "code",
   "execution_count": null,
   "id": "22810ad6",
   "metadata": {},
   "outputs": [],
   "source": [
    "print(\"\")"
   ]
  },
  {
   "cell_type": "code",
   "execution_count": null,
   "id": "1357d2f8",
   "metadata": {},
   "outputs": [],
   "source": [
    "model_class = KerasClassifier(model, clip_values=(0, 1), use_logits=False)"
   ]
  },
  {
   "cell_type": "code",
   "execution_count": null,
   "id": "5f79b281",
   "metadata": {},
   "outputs": [],
   "source": [
    "modelR_class = KerasClassifier(modelR, clip_values=(0, 1), use_logits=False)"
   ]
  },
  {
   "cell_type": "code",
   "execution_count": null,
   "id": "17d2fdfe",
   "metadata": {},
   "outputs": [],
   "source": [
    "cantidad_de_ataques = BasicIterativeMethod(modelR_class, eps=60, eps_step=2, max_iter=40)"
   ]
  },
  {
   "cell_type": "code",
   "execution_count": null,
   "id": "62fcc4ba",
   "metadata": {},
   "outputs": [],
   "source": [
    "modelR_train = AdversarialTrainer(modelR_class, cantidad_de_ataques, ratio=1.0)"
   ]
  },
  {
   "cell_type": "code",
   "execution_count": null,
   "id": "a9e21a19",
   "metadata": {},
   "outputs": [],
   "source": [
    "#Necesito compilarlo antes\n",
    "modelR_train.fit(X_train, y_train, nb_epochs=2, batch_size=50)"
   ]
  },
  {
   "cell_type": "code",
   "execution_count": null,
   "id": "ee5d687f",
   "metadata": {},
   "outputs": [],
   "source": [
    "# Clasificacion de data (con defensa y siendo atacado) de modelo original"
   ]
  },
  {
   "cell_type": "code",
   "execution_count": null,
   "id": "94ca0502",
   "metadata": {},
   "outputs": [],
   "source": [
    "#Gráfica el accuracy del modelo robado"
   ]
  },
  {
   "cell_type": "code",
   "execution_count": null,
   "id": "0fb356e3",
   "metadata": {},
   "outputs": [],
   "source": []
  },
  {
   "cell_type": "code",
   "execution_count": null,
   "id": "feff0d8c",
   "metadata": {},
   "outputs": [],
   "source": []
  }
 ],
 "metadata": {
  "kernelspec": {
   "display_name": "Python 3",
   "language": "python",
   "name": "python3"
  },
  "language_info": {
   "codemirror_mode": {
    "name": "ipython",
    "version": 3
   },
   "file_extension": ".py",
   "mimetype": "text/x-python",
   "name": "python",
   "nbconvert_exporter": "python",
   "pygments_lexer": "ipython3",
   "version": "3.8.8"
  }
 },
 "nbformat": 4,
 "nbformat_minor": 5
}
