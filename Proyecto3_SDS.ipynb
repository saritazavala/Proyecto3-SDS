{
 "cells": [
  {
   "cell_type": "markdown",
   "id": "ea89ef52",
   "metadata": {},
   "source": [
    "## Proyecto 3 - SDS\n",
    "### Sara Zavala"
   ]
  },
  {
   "cell_type": "code",
   "execution_count": 1,
   "id": "6397b064",
   "metadata": {},
   "outputs": [],
   "source": [
    "##Ataque de extracción "
   ]
  },
  {
   "cell_type": "code",
   "execution_count": 2,
   "id": "539efb01",
   "metadata": {},
   "outputs": [],
   "source": [
    "import pprint\n",
    "import numpy as np\n",
    "import pandas as pd\n",
    "import seaborn as sns\n",
    "from tensorflow import keras\n",
    "import matplotlib.pyplot as plt\n",
    "from sklearn.utils import class_weight\n",
    "from sklearn import *\n",
    "import matplotlib.pyplot as plt\n",
    "from matplotlib.path import Path\n",
    "from matplotlib.patches import PathPatch\n",
    "from sklearn.datasets import make_classification\n",
    "from sklearn.metrics import confusion_matrix,classification_report\n",
    "from sklearn.model_selection import train_test_split\n",
    "from keras.preprocessing.image import ImageDataGenerator"
   ]
  },
  {
   "cell_type": "code",
   "execution_count": 3,
   "id": "3b808a0e",
   "metadata": {},
   "outputs": [],
   "source": [
    "path = (\"malimg_paper_dataset_imgs\")"
   ]
  },
  {
   "cell_type": "code",
   "execution_count": 4,
   "id": "3270ca43",
   "metadata": {},
   "outputs": [
    {
     "name": "stdout",
     "output_type": "stream",
     "text": [
      "Found 9339 images belonging to 25 classes.\n"
     ]
    }
   ],
   "source": [
    "path_images = ImageDataGenerator().flow_from_directory(directory=path, target_size=(128,128), batch_size=10000)"
   ]
  },
  {
   "cell_type": "code",
   "execution_count": null,
   "id": "f3a0cc55",
   "metadata": {},
   "outputs": [],
   "source": []
  },
  {
   "cell_type": "markdown",
   "id": "9acb9d99",
   "metadata": {},
   "source": [
    "Ataque de evasión \n",
    "1. Se debe mostrar un entrenamiento y predicción del modelo original \n",
    "2. Utilizando el ataque de evasión Fast Gradient Method genere observaciones falsas \n",
    "3. Muestre  la  cantidad  de  observaciones  generadas  que  fueron  clasificadas  correcta  e \n",
    "incorrectamente \n",
    "4. Explique con detalle los resultados obtenidos. ¿Cómo podría proteger su modelo ante este \n",
    "tipo de ataques? \n",
    "5. Realce las modificaciones que considere pertinentes para hacer su modelo robusto contra este  tipo  de  ataques  (puede  modificar  el  modelo  original,  así  como  el  dataset  de entrenamiento). Repita los pasos 1 al 3 con el nuevo modelo robusto y demuestre que es menos susceptible a equivocarse con observaciones generadas "
   ]
  },
  {
   "cell_type": "code",
   "execution_count": 5,
   "id": "a310f501",
   "metadata": {},
   "outputs": [
    {
     "data": {
      "text/plain": [
       "{'Adialer.C': 0,\n",
       " 'Agent.FYI': 1,\n",
       " 'Allaple.A': 2,\n",
       " 'Allaple.L': 3,\n",
       " 'Alueron.gen!J': 4,\n",
       " 'Autorun.K': 5,\n",
       " 'C2LOP.P': 6,\n",
       " 'C2LOP.gen!g': 7,\n",
       " 'Dialplatform.B': 8,\n",
       " 'Dontovo.A': 9,\n",
       " 'Fakerean': 10,\n",
       " 'Instantaccess': 11,\n",
       " 'Lolyda.AA1': 12,\n",
       " 'Lolyda.AA2': 13,\n",
       " 'Lolyda.AA3': 14,\n",
       " 'Lolyda.AT': 15,\n",
       " 'Malex.gen!J': 16,\n",
       " 'Obfuscator.AD': 17,\n",
       " 'Rbot!gen': 18,\n",
       " 'Skintrim.N': 19,\n",
       " 'Swizzor.gen!E': 20,\n",
       " 'Swizzor.gen!I': 21,\n",
       " 'VB.AT': 22,\n",
       " 'Wintrim.BX': 23,\n",
       " 'Yuner.A': 24}"
      ]
     },
     "execution_count": 5,
     "metadata": {},
     "output_type": "execute_result"
    }
   ],
   "source": [
    "path_images.class_indices"
   ]
  },
  {
   "cell_type": "code",
   "execution_count": 6,
   "id": "09ef7b5b",
   "metadata": {},
   "outputs": [
    {
     "name": "stdout",
     "output_type": "stream",
     "text": [
      "24\n"
     ]
    }
   ],
   "source": [
    "data = path_images.class_indices\n",
    "data2 = list(data.values())\n",
    "print(len(data2)-1)"
   ]
  },
  {
   "cell_type": "code",
   "execution_count": 7,
   "id": "a4405bb1",
   "metadata": {},
   "outputs": [],
   "source": [
    "# x, y = next(batches)\n",
    "images, marks = next(path_images)"
   ]
  },
  {
   "cell_type": "code",
   "execution_count": 9,
   "id": "d247595f",
   "metadata": {},
   "outputs": [
    {
     "data": {
      "text/plain": [
       "(9339, 128, 128, 3)"
      ]
     },
     "execution_count": 9,
     "metadata": {},
     "output_type": "execute_result"
    }
   ],
   "source": [
    "images.shape"
   ]
  },
  {
   "cell_type": "code",
   "execution_count": 10,
   "id": "51ac490a",
   "metadata": {},
   "outputs": [
    {
     "data": {
      "text/plain": [
       "459030528"
      ]
     },
     "execution_count": 10,
     "metadata": {},
     "output_type": "execute_result"
    }
   ],
   "source": [
    "images.size"
   ]
  },
  {
   "cell_type": "code",
   "execution_count": 11,
   "id": "d04ef316",
   "metadata": {},
   "outputs": [
    {
     "data": {
      "text/plain": [
       "233475"
      ]
     },
     "execution_count": 11,
     "metadata": {},
     "output_type": "execute_result"
    }
   ],
   "source": [
    "marks.size"
   ]
  },
  {
   "cell_type": "code",
   "execution_count": 12,
   "id": "9a3b567b",
   "metadata": {},
   "outputs": [
    {
     "name": "stdout",
     "output_type": "stream",
     "text": [
      "Images size -->  4\n",
      "Marks -->  4\n"
     ]
    }
   ],
   "source": [
    "print('Images size --> ', images.itemsize)\n",
    "print('Marks --> ',marks.itemsize)"
   ]
  },
  {
   "cell_type": "code",
   "execution_count": 14,
   "id": "9fc4af1e",
   "metadata": {},
   "outputs": [
    {
     "data": {
      "text/plain": [
       "array([[[[201., 201., 201.],\n",
       "         [ 46.,  46.,  46.],\n",
       "         [114., 114., 114.],\n",
       "         ...,\n",
       "         [  0.,   0.,   0.],\n",
       "         [  0.,   0.,   0.],\n",
       "         [  0.,   0.,   0.]],\n",
       "\n",
       "        [[  0.,   0.,   0.],\n",
       "         [  0.,   0.,   0.],\n",
       "         [  0.,   0.,   0.],\n",
       "         ...,\n",
       "         [  0.,   0.,   0.],\n",
       "         [  0.,   0.,   0.],\n",
       "         [  0.,   0.,   0.]],\n",
       "\n",
       "        [[210., 210., 210.],\n",
       "         [245., 245., 245.],\n",
       "         [252., 252., 252.],\n",
       "         ...,\n",
       "         [185., 185., 185.],\n",
       "         [ 52.,  52.,  52.],\n",
       "         [254., 254., 254.]],\n",
       "\n",
       "        ...,\n",
       "\n",
       "        [[235., 235., 235.],\n",
       "         [ 54.,  54.,  54.],\n",
       "         [185., 185., 185.],\n",
       "         ...,\n",
       "         [184., 184., 184.],\n",
       "         [203., 203., 203.],\n",
       "         [  7.,   7.,   7.]],\n",
       "\n",
       "        [[ 54.,  54.,  54.],\n",
       "         [165., 165., 165.],\n",
       "         [  6.,   6.,   6.],\n",
       "         ...,\n",
       "         [ 19.,  19.,  19.],\n",
       "         [115., 115., 115.],\n",
       "         [ 51.,  51.,  51.]],\n",
       "\n",
       "        [[142., 142., 142.],\n",
       "         [205., 205., 205.],\n",
       "         [ 85.,  85.,  85.],\n",
       "         ...,\n",
       "         [ 88.,  88.,  88.],\n",
       "         [ 97.,  97.,  97.],\n",
       "         [222., 222., 222.]]],\n",
       "\n",
       "\n",
       "       [[[ 16.,  16.,  16.],\n",
       "         [240., 240., 240.],\n",
       "         [ 89.,  89.,  89.],\n",
       "         ...,\n",
       "         [  0.,   0.,   0.],\n",
       "         [ 72.,  72.,  72.],\n",
       "         [  0.,   0.,   0.]],\n",
       "\n",
       "        [[201., 201., 201.],\n",
       "         [  1.,   1.,   1.],\n",
       "         [ 15.,  15.,  15.],\n",
       "         ...,\n",
       "         [ 12.,  12.,  12.],\n",
       "         [232., 232., 232.],\n",
       "         [255., 255., 255.]],\n",
       "\n",
       "        [[  4.,   4.,   4.],\n",
       "         [195., 195., 195.],\n",
       "         [235., 235., 235.],\n",
       "         ...,\n",
       "         [195., 195., 195.],\n",
       "         [ 24.,  24.,  24.],\n",
       "         [ 87.,  87.,  87.]],\n",
       "\n",
       "        ...,\n",
       "\n",
       "        [[117., 117., 117.],\n",
       "         [115., 115., 115.],\n",
       "         [108., 108., 108.],\n",
       "         ...,\n",
       "         [  0.,   0.,   0.],\n",
       "         [  0.,   0.,   0.],\n",
       "         [  0.,   0.,   0.]],\n",
       "\n",
       "        [[127., 127., 127.],\n",
       "         [202., 202., 202.],\n",
       "         [ 90.,  90.,  90.],\n",
       "         ...,\n",
       "         [ 64.,  64.,  64.],\n",
       "         [118., 118., 118.],\n",
       "         [110., 110., 110.]],\n",
       "\n",
       "        [[187., 187., 187.],\n",
       "         [ 94.,  94.,  94.],\n",
       "         [  2.,   2.,   2.],\n",
       "         ...,\n",
       "         [166., 166., 166.],\n",
       "         [253., 253., 253.],\n",
       "         [ 20.,  20.,  20.]]],\n",
       "\n",
       "\n",
       "       [[[112., 112., 112.],\n",
       "         [  0.,   0.,   0.],\n",
       "         [  4.,   4.,   4.],\n",
       "         ...,\n",
       "         [116., 116., 116.],\n",
       "         [  0.,   0.,   0.],\n",
       "         [  0.,   0.,   0.]],\n",
       "\n",
       "        [[  0.,   0.,   0.],\n",
       "         [  0.,   0.,   0.],\n",
       "         [  0.,   0.,   0.],\n",
       "         ...,\n",
       "         [  0.,   0.,   0.],\n",
       "         [  0.,   0.,   0.],\n",
       "         [  0.,   0.,   0.]],\n",
       "\n",
       "        [[  9.,   9.,   9.],\n",
       "         [ 71.,  71.,  71.],\n",
       "         [141., 141., 141.],\n",
       "         ...,\n",
       "         [226., 226., 226.],\n",
       "         [189., 189., 189.],\n",
       "         [ 92.,  92.,  92.]],\n",
       "\n",
       "        ...,\n",
       "\n",
       "        [[154., 154., 154.],\n",
       "         [ 23.,  23.,  23.],\n",
       "         [118., 118., 118.],\n",
       "         ...,\n",
       "         [ 30.,  30.,  30.],\n",
       "         [  6.,   6.,   6.],\n",
       "         [ 40.,  40.,  40.]],\n",
       "\n",
       "        [[107., 107., 107.],\n",
       "         [ 91.,  91.,  91.],\n",
       "         [101., 101., 101.],\n",
       "         ...,\n",
       "         [ 67.,  67.,  67.],\n",
       "         [198., 198., 198.],\n",
       "         [124., 124., 124.]],\n",
       "\n",
       "        [[250., 250., 250.],\n",
       "         [107., 107., 107.],\n",
       "         [ 65.,  65.,  65.],\n",
       "         ...,\n",
       "         [ 62.,  62.,  62.],\n",
       "         [ 51.,  51.,  51.],\n",
       "         [168., 168., 168.]]],\n",
       "\n",
       "\n",
       "       ...,\n",
       "\n",
       "\n",
       "       [[[  0.,   0.,   0.],\n",
       "         [  0.,   0.,   0.],\n",
       "         [  0.,   0.,   0.],\n",
       "         ...,\n",
       "         [  0.,   0.,   0.],\n",
       "         [  0.,   0.,   0.],\n",
       "         [224., 224., 224.]],\n",
       "\n",
       "        [[  0.,   0.,   0.],\n",
       "         [  0.,   0.,   0.],\n",
       "         [  0.,   0.,   0.],\n",
       "         ...,\n",
       "         [  0.,   0.,   0.],\n",
       "         [234., 234., 234.],\n",
       "         [ 84.,  84.,  84.]],\n",
       "\n",
       "        [[ 72.,  72.,  72.],\n",
       "         [ 88.,  88.,  88.],\n",
       "         [249., 249., 249.],\n",
       "         ...,\n",
       "         [ 55.,  55.,  55.],\n",
       "         [ 49.,  49.,  49.],\n",
       "         [ 39.,  39.,  39.]],\n",
       "\n",
       "        ...,\n",
       "\n",
       "        [[110., 110., 110.],\n",
       "         [199., 199., 199.],\n",
       "         [177., 177., 177.],\n",
       "         ...,\n",
       "         [ 46.,  46.,  46.],\n",
       "         [ 53.,  53.,  53.],\n",
       "         [ 67.,  67.,  67.]],\n",
       "\n",
       "        [[ 77.,  77.,  77.],\n",
       "         [ 79.,  79.,  79.],\n",
       "         [104., 104., 104.],\n",
       "         ...,\n",
       "         [125., 125., 125.],\n",
       "         [ 48.,  48.,  48.],\n",
       "         [ 18.,  18.,  18.]],\n",
       "\n",
       "        [[182., 182., 182.],\n",
       "         [ 46.,  46.,  46.],\n",
       "         [ 37.,  37.,  37.],\n",
       "         ...,\n",
       "         [ 50.,  50.,  50.],\n",
       "         [127., 127., 127.],\n",
       "         [ 46.,  46.,  46.]]],\n",
       "\n",
       "\n",
       "       [[[ 14.,  14.,  14.],\n",
       "         [ 14.,  14.,  14.],\n",
       "         [ 31.,  31.,  31.],\n",
       "         ...,\n",
       "         [  0.,   0.,   0.],\n",
       "         [  0.,   0.,   0.],\n",
       "         [  0.,   0.,   0.]],\n",
       "\n",
       "        [[  0.,   0.,   0.],\n",
       "         [  0.,   0.,   0.],\n",
       "         [ 28.,  28.,  28.],\n",
       "         ...,\n",
       "         [  0.,   0.,   0.],\n",
       "         [  0.,   0.,   0.],\n",
       "         [  0.,   0.,   0.]],\n",
       "\n",
       "        [[  0.,   0.,   0.],\n",
       "         [  0.,   0.,   0.],\n",
       "         [  0.,   0.,   0.],\n",
       "         ...,\n",
       "         [  0.,   0.,   0.],\n",
       "         [ 96.,  96.,  96.],\n",
       "         [ 96.,  96.,  96.]],\n",
       "\n",
       "        ...,\n",
       "\n",
       "        [[114., 114., 114.],\n",
       "         [114., 114., 114.],\n",
       "         [ 50.,  50.,  50.],\n",
       "         ...,\n",
       "         [ 44.,  44.,  44.],\n",
       "         [ 51.,  51.,  51.],\n",
       "         [ 51.,  51.,  51.]],\n",
       "\n",
       "        [[  0.,   0.,   0.],\n",
       "         [  0.,   0.,   0.],\n",
       "         [  0.,   0.,   0.],\n",
       "         ...,\n",
       "         [  0.,   0.,   0.],\n",
       "         [  0.,   0.,   0.],\n",
       "         [  0.,   0.,   0.]],\n",
       "\n",
       "        [[  0.,   0.,   0.],\n",
       "         [  0.,   0.,   0.],\n",
       "         [  0.,   0.,   0.],\n",
       "         ...,\n",
       "         [  0.,   0.,   0.],\n",
       "         [  0.,   0.,   0.],\n",
       "         [  0.,   0.,   0.]]],\n",
       "\n",
       "\n",
       "       [[[ 90.,  90.,  90.],\n",
       "         [  0.,   0.,   0.],\n",
       "         [  0.,   0.,   0.],\n",
       "         ...,\n",
       "         [  0.,   0.,   0.],\n",
       "         [  0.,   0.,   0.],\n",
       "         [  0.,   0.,   0.]],\n",
       "\n",
       "        [[  8.,   8.,   8.],\n",
       "         [  0.,   0.,   0.],\n",
       "         [ 80.,  80.,  80.],\n",
       "         ...,\n",
       "         [  0.,   0.,   0.],\n",
       "         [  0.,   0.,   0.],\n",
       "         [  0.,   0.,   0.]],\n",
       "\n",
       "        [[103., 103., 103.],\n",
       "         [248., 248., 248.],\n",
       "         [184., 184., 184.],\n",
       "         ...,\n",
       "         [150., 150., 150.],\n",
       "         [241., 241., 241.],\n",
       "         [ 18.,  18.,  18.]],\n",
       "\n",
       "        ...,\n",
       "\n",
       "        [[ 82.,  82.,  82.],\n",
       "         [ 27.,  27.,  27.],\n",
       "         [ 30.,  30.,  30.],\n",
       "         ...,\n",
       "         [ 39.,  39.,  39.],\n",
       "         [  9.,   9.,   9.],\n",
       "         [149., 149., 149.]],\n",
       "\n",
       "        [[198., 198., 198.],\n",
       "         [111., 111., 111.],\n",
       "         [129., 129., 129.],\n",
       "         ...,\n",
       "         [121., 121., 121.],\n",
       "         [ 98.,  98.,  98.],\n",
       "         [ 14.,  14.,  14.]],\n",
       "\n",
       "        [[ 30.,  30.,  30.],\n",
       "         [ 94.,  94.,  94.],\n",
       "         [157., 157., 157.],\n",
       "         ...,\n",
       "         [ 26.,  26.,  26.],\n",
       "         [219., 219., 219.],\n",
       "         [187., 187., 187.]]]], dtype=float32)"
      ]
     },
     "execution_count": 14,
     "metadata": {},
     "output_type": "execute_result"
    }
   ],
   "source": [
    "images"
   ]
  },
  {
   "cell_type": "code",
   "execution_count": 13,
   "id": "6aaa7847",
   "metadata": {},
   "outputs": [
    {
     "data": {
      "text/plain": [
       "array([[0., 0., 0., ..., 0., 0., 0.],\n",
       "       [0., 0., 0., ..., 0., 0., 1.],\n",
       "       [0., 0., 1., ..., 0., 0., 0.],\n",
       "       ...,\n",
       "       [0., 0., 1., ..., 0., 0., 0.],\n",
       "       [0., 0., 0., ..., 0., 0., 0.],\n",
       "       [0., 0., 1., ..., 0., 0., 0.]], dtype=float32)"
      ]
     },
     "execution_count": 13,
     "metadata": {},
     "output_type": "execute_result"
    }
   ],
   "source": [
    "marks"
   ]
  },
  {
   "cell_type": "code",
   "execution_count": null,
   "id": "97e9f6a0",
   "metadata": {},
   "outputs": [],
   "source": [
    "## Entrenamiento y prediccion"
   ]
  },
  {
   "cell_type": "code",
   "execution_count": 15,
   "id": "0580997c",
   "metadata": {},
   "outputs": [],
   "source": [
    "X_train, X_test0, y_train, y_test0 = train_test_split(images, marks, test_size = 0.2)"
   ]
  },
  {
   "cell_type": "code",
   "execution_count": null,
   "id": "e28d4c56",
   "metadata": {},
   "outputs": [],
   "source": []
  }
 ],
 "metadata": {
  "kernelspec": {
   "display_name": "Python 3",
   "language": "python",
   "name": "python3"
  },
  "language_info": {
   "codemirror_mode": {
    "name": "ipython",
    "version": 3
   },
   "file_extension": ".py",
   "mimetype": "text/x-python",
   "name": "python",
   "nbconvert_exporter": "python",
   "pygments_lexer": "ipython3",
   "version": "3.8.8"
  }
 },
 "nbformat": 4,
 "nbformat_minor": 5
}
