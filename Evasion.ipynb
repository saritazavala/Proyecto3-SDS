{
 "cells": [
  {
   "cell_type": "markdown",
   "id": "57c8e437",
   "metadata": {},
   "source": [
    "## EVASION\n",
    "## P3"
   ]
  },
  {
   "cell_type": "code",
   "execution_count": 1,
   "id": "1e72968d",
   "metadata": {},
   "outputs": [],
   "source": [
    "import pprint\n",
    "import numpy as np\n",
    "import pandas as pd\n",
    "from sklearn import *\n",
    "import seaborn as sns\n",
    "import tensorflow as tf\n",
    "from tensorflow import keras\n",
    "import matplotlib.pyplot as plt\n",
    "from matplotlib.path import Path\n",
    "from sklearn.utils import class_weight\n",
    "from matplotlib.patches import PathPatch\n",
    "from keras.models import Sequential, Model\n",
    "from sklearn.datasets import make_classification\n",
    "from art.attacks.evasion import FastGradientMethod\n",
    "from art.defences.trainer import AdversarialTrainer\n",
    "from sklearn.model_selection import train_test_split\n",
    "from art.attacks.evasion import BasicIterativeMethod\n",
    "from art.defences.postprocessor import ReverseSigmoid\n",
    "from keras.preprocessing.image import ImageDataGenerator\n",
    "from art.estimators.classification import KerasClassifier\n",
    "from art.attacks.extraction import CopycatCNN, KnockoffNets\n",
    "from art.estimators.classification import TensorFlowV2Classifier\n",
    "from keras.layers import Conv2D, MaxPooling2D, InputLayer, Reshape\n",
    "from sklearn.metrics import confusion_matrix,classification_report\n",
    "from tensorflow.python.framework.ops import disable_eager_execution"
   ]
  },
  {
   "cell_type": "code",
   "execution_count": 2,
   "id": "610feba6",
   "metadata": {},
   "outputs": [],
   "source": [
    "tf.compat.v1.disable_eager_execution()"
   ]
  },
  {
   "cell_type": "code",
   "execution_count": 3,
   "id": "8b635cfe",
   "metadata": {},
   "outputs": [],
   "source": [
    "path = (\"malimg_paper_dataset_imgs\")"
   ]
  },
  {
   "cell_type": "code",
   "execution_count": 4,
   "id": "5aa85773",
   "metadata": {},
   "outputs": [
    {
     "name": "stdout",
     "output_type": "stream",
     "text": [
      "Found 9339 images belonging to 25 classes.\n"
     ]
    }
   ],
   "source": [
    "path_images = ImageDataGenerator().flow_from_directory(directory=path, target_size=(128,128), batch_size=10000)"
   ]
  },
  {
   "cell_type": "code",
   "execution_count": 5,
   "id": "02152ec8",
   "metadata": {},
   "outputs": [],
   "source": [
    "images, marks = next(path_images)"
   ]
  },
  {
   "cell_type": "code",
   "execution_count": 6,
   "id": "fef3e034",
   "metadata": {},
   "outputs": [],
   "source": [
    "#Entrenamiento - Pruebas"
   ]
  },
  {
   "cell_type": "code",
   "execution_count": 7,
   "id": "caaab079",
   "metadata": {},
   "outputs": [],
   "source": [
    "X_train, X_test0, y_train, y_test0 = train_test_split(images, marks, test_size = 0.2)"
   ]
  },
  {
   "cell_type": "code",
   "execution_count": 8,
   "id": "b2b4fb9f",
   "metadata": {},
   "outputs": [],
   "source": [
    "# TRAIN"
   ]
  },
  {
   "cell_type": "code",
   "execution_count": 9,
   "id": "ddb8deee",
   "metadata": {},
   "outputs": [
    {
     "data": {
      "text/plain": [
       "(7471, 128, 128, 3)"
      ]
     },
     "execution_count": 9,
     "metadata": {},
     "output_type": "execute_result"
    }
   ],
   "source": [
    "X_train.shape"
   ]
  },
  {
   "cell_type": "code",
   "execution_count": 12,
   "id": "25ffa938",
   "metadata": {},
   "outputs": [
    {
     "data": {
      "text/plain": [
       "(7471, 25)"
      ]
     },
     "execution_count": 12,
     "metadata": {},
     "output_type": "execute_result"
    }
   ],
   "source": [
    "y_train.shape"
   ]
  },
  {
   "cell_type": "code",
   "execution_count": 16,
   "id": "1f085fa2",
   "metadata": {},
   "outputs": [
    {
     "data": {
      "text/plain": [
       "367214592"
      ]
     },
     "execution_count": 16,
     "metadata": {},
     "output_type": "execute_result"
    }
   ],
   "source": [
    "X_train.size"
   ]
  },
  {
   "cell_type": "code",
   "execution_count": 17,
   "id": "a9e39bac",
   "metadata": {},
   "outputs": [
    {
     "data": {
      "text/plain": [
       "186775"
      ]
     },
     "execution_count": 17,
     "metadata": {},
     "output_type": "execute_result"
    }
   ],
   "source": [
    "y_train.size"
   ]
  },
  {
   "cell_type": "code",
   "execution_count": 13,
   "id": "4ff4f9c0",
   "metadata": {},
   "outputs": [],
   "source": [
    "# TEST"
   ]
  },
  {
   "cell_type": "code",
   "execution_count": 14,
   "id": "1aad6028",
   "metadata": {},
   "outputs": [
    {
     "data": {
      "text/plain": [
       "(1868, 128, 128, 3)"
      ]
     },
     "execution_count": 14,
     "metadata": {},
     "output_type": "execute_result"
    }
   ],
   "source": [
    "X_test0.shape"
   ]
  },
  {
   "cell_type": "code",
   "execution_count": 15,
   "id": "11f9d9c3",
   "metadata": {},
   "outputs": [
    {
     "data": {
      "text/plain": [
       "(1868, 25)"
      ]
     },
     "execution_count": 15,
     "metadata": {},
     "output_type": "execute_result"
    }
   ],
   "source": [
    "y_test0.shape"
   ]
  },
  {
   "cell_type": "code",
   "execution_count": 18,
   "id": "ee87c71e",
   "metadata": {},
   "outputs": [
    {
     "data": {
      "text/plain": [
       "91815936"
      ]
     },
     "execution_count": 18,
     "metadata": {},
     "output_type": "execute_result"
    }
   ],
   "source": [
    "X_test0.size"
   ]
  },
  {
   "cell_type": "code",
   "execution_count": 19,
   "id": "e444c3ea",
   "metadata": {},
   "outputs": [
    {
     "data": {
      "text/plain": [
       "46700"
      ]
     },
     "execution_count": 19,
     "metadata": {},
     "output_type": "execute_result"
    }
   ],
   "source": [
    "y_test0.size"
   ]
  },
  {
   "cell_type": "code",
   "execution_count": 20,
   "id": "aee7a75b",
   "metadata": {},
   "outputs": [
    {
     "name": "stdout",
     "output_type": "stream",
     "text": [
      "Images size -->  4\n",
      "Marks -->  4\n"
     ]
    }
   ],
   "source": [
    "print('Images size --> ', images.itemsize)\n",
    "print('Marks --> ',marks.itemsize)"
   ]
  },
  {
   "cell_type": "code",
   "execution_count": 21,
   "id": "866e9006",
   "metadata": {},
   "outputs": [
    {
     "data": {
      "text/plain": [
       "array([[[[  0.,   0.,   0.],\n",
       "         [  0.,   0.,   0.],\n",
       "         [  0.,   0.,   0.],\n",
       "         ...,\n",
       "         [  0.,   0.,   0.],\n",
       "         [  0.,   0.,   0.],\n",
       "         [  0.,   0.,   0.]],\n",
       "\n",
       "        [[  0.,   0.,   0.],\n",
       "         [ 54.,  54.,  54.],\n",
       "         [  0.,   0.,   0.],\n",
       "         ...,\n",
       "         [127., 127., 127.],\n",
       "         [  0.,   0.,   0.],\n",
       "         [127., 127., 127.]],\n",
       "\n",
       "        [[  0.,   0.,   0.],\n",
       "         [  0.,   0.,   0.],\n",
       "         [  0.,   0.,   0.],\n",
       "         ...,\n",
       "         [  0.,   0.,   0.],\n",
       "         [  0.,   0.,   0.],\n",
       "         [  0.,   0.,   0.]],\n",
       "\n",
       "        ...,\n",
       "\n",
       "        [[  0.,   0.,   0.],\n",
       "         [  0.,   0.,   0.],\n",
       "         [  0.,   0.,   0.],\n",
       "         ...,\n",
       "         [  0.,   0.,   0.],\n",
       "         [  0.,   0.,   0.],\n",
       "         [  0.,   0.,   0.]],\n",
       "\n",
       "        [[  0.,   0.,   0.],\n",
       "         [  0.,   0.,   0.],\n",
       "         [  0.,   0.,   0.],\n",
       "         ...,\n",
       "         [  0.,   0.,   0.],\n",
       "         [  0.,   0.,   0.],\n",
       "         [  0.,   0.,   0.]],\n",
       "\n",
       "        [[  0.,   0.,   0.],\n",
       "         [  0.,   0.,   0.],\n",
       "         [  0.,   0.,   0.],\n",
       "         ...,\n",
       "         [  0.,   0.,   0.],\n",
       "         [  0.,   0.,   0.],\n",
       "         [  0.,   0.,   0.]]],\n",
       "\n",
       "\n",
       "       [[[ 21.,  21.,  21.],\n",
       "         [  0.,   0.,   0.],\n",
       "         [ 16.,  16.,  16.],\n",
       "         ...,\n",
       "         [ 97.,  97.,  97.],\n",
       "         [ 97.,  97.,  97.],\n",
       "         [  0.,   0.,   0.]],\n",
       "\n",
       "        [[  0.,   0.,   0.],\n",
       "         [  0.,   0.,   0.],\n",
       "         [  0.,   0.,   0.],\n",
       "         ...,\n",
       "         [  0.,   0.,   0.],\n",
       "         [  0.,   0.,   0.],\n",
       "         [  0.,   0.,   0.]],\n",
       "\n",
       "        [[  0.,   0.,   0.],\n",
       "         [  0.,   0.,   0.],\n",
       "         [  0.,   0.,   0.],\n",
       "         ...,\n",
       "         [  0.,   0.,   0.],\n",
       "         [  0.,   0.,   0.],\n",
       "         [  0.,   0.,   0.]],\n",
       "\n",
       "        ...,\n",
       "\n",
       "        [[  0.,   0.,   0.],\n",
       "         [  0.,   0.,   0.],\n",
       "         [  0.,   0.,   0.],\n",
       "         ...,\n",
       "         [  0.,   0.,   0.],\n",
       "         [  0.,   0.,   0.],\n",
       "         [  0.,   0.,   0.]],\n",
       "\n",
       "        [[  0.,   0.,   0.],\n",
       "         [  0.,   0.,   0.],\n",
       "         [  0.,   0.,   0.],\n",
       "         ...,\n",
       "         [  0.,   0.,   0.],\n",
       "         [  0.,   0.,   0.],\n",
       "         [  0.,   0.,   0.]],\n",
       "\n",
       "        [[  0.,   0.,   0.],\n",
       "         [  0.,   0.,   0.],\n",
       "         [  0.,   0.,   0.],\n",
       "         ...,\n",
       "         [  0.,   0.,   0.],\n",
       "         [  0.,   0.,   0.],\n",
       "         [  0.,   0.,   0.]]],\n",
       "\n",
       "\n",
       "       [[[ 17.,  17.,  17.],\n",
       "         [ 10.,  10.,  10.],\n",
       "         [  9.,   9.,   9.],\n",
       "         ...,\n",
       "         [217., 217., 217.],\n",
       "         [ 65.,  65.,  65.],\n",
       "         [  4.,   4.,   4.]],\n",
       "\n",
       "        [[  0.,   0.,   0.],\n",
       "         [138., 138., 138.],\n",
       "         [144., 144., 144.],\n",
       "         ...,\n",
       "         [  5.,   5.,   5.],\n",
       "         [144., 144., 144.],\n",
       "         [144., 144., 144.]],\n",
       "\n",
       "        [[ 65.,  65.,  65.],\n",
       "         [144., 144., 144.],\n",
       "         [144., 144., 144.],\n",
       "         ...,\n",
       "         [ 96.,  96.,  96.],\n",
       "         [  0.,   0.,   0.],\n",
       "         [ 81.,  81.,  81.]],\n",
       "\n",
       "        ...,\n",
       "\n",
       "        [[  0.,   0.,   0.],\n",
       "         [  0.,   0.,   0.],\n",
       "         [  0.,   0.,   0.],\n",
       "         ...,\n",
       "         [  0.,   0.,   0.],\n",
       "         [  0.,   0.,   0.],\n",
       "         [  0.,   0.,   0.]],\n",
       "\n",
       "        [[198., 198., 198.],\n",
       "         [245., 245., 245.],\n",
       "         [176., 176., 176.],\n",
       "         ...,\n",
       "         [  0.,   0.,   0.],\n",
       "         [  0.,   0.,   0.],\n",
       "         [  0.,   0.,   0.]],\n",
       "\n",
       "        [[ 34.,  34.,  34.],\n",
       "         [109., 109., 109.],\n",
       "         [ 77.,  77.,  77.],\n",
       "         ...,\n",
       "         [  0.,   0.,   0.],\n",
       "         [  0.,   0.,   0.],\n",
       "         [  0.,   0.,   0.]]],\n",
       "\n",
       "\n",
       "       ...,\n",
       "\n",
       "\n",
       "       [[[102., 102., 102.],\n",
       "         [  0.,   0.,   0.],\n",
       "         [  4.,   4.,   4.],\n",
       "         ...,\n",
       "         [116., 116., 116.],\n",
       "         [  0.,   0.,   0.],\n",
       "         [  0.,   0.,   0.]],\n",
       "\n",
       "        [[  0.,   0.,   0.],\n",
       "         [  0.,   0.,   0.],\n",
       "         [  0.,   0.,   0.],\n",
       "         ...,\n",
       "         [  0.,   0.,   0.],\n",
       "         [  0.,   0.,   0.],\n",
       "         [  0.,   0.,   0.]],\n",
       "\n",
       "        [[ 65.,  65.,  65.],\n",
       "         [ 87.,  87.,  87.],\n",
       "         [140., 140., 140.],\n",
       "         ...,\n",
       "         [192., 192., 192.],\n",
       "         [225., 225., 225.],\n",
       "         [ 51.,  51.,  51.]],\n",
       "\n",
       "        ...,\n",
       "\n",
       "        [[ 62.,  62.,  62.],\n",
       "         [108., 108., 108.],\n",
       "         [ 93.,  93.,  93.],\n",
       "         ...,\n",
       "         [  2.,   2.,   2.],\n",
       "         [139., 139., 139.],\n",
       "         [187., 187., 187.]],\n",
       "\n",
       "        [[ 10.,  10.,  10.],\n",
       "         [188., 188., 188.],\n",
       "         [153., 153., 153.],\n",
       "         ...,\n",
       "         [104., 104., 104.],\n",
       "         [237., 237., 237.],\n",
       "         [113., 113., 113.]],\n",
       "\n",
       "        [[ 99.,  99.,  99.],\n",
       "         [102., 102., 102.],\n",
       "         [  2.,   2.,   2.],\n",
       "         ...,\n",
       "         [230., 230., 230.],\n",
       "         [ 17.,  17.,  17.],\n",
       "         [255., 255., 255.]]],\n",
       "\n",
       "\n",
       "       [[[201., 201., 201.],\n",
       "         [ 46.,  46.,  46.],\n",
       "         [114., 114., 114.],\n",
       "         ...,\n",
       "         [  0.,   0.,   0.],\n",
       "         [  0.,   0.,   0.],\n",
       "         [  0.,   0.,   0.]],\n",
       "\n",
       "        [[  0.,   0.,   0.],\n",
       "         [  0.,   0.,   0.],\n",
       "         [  0.,   0.,   0.],\n",
       "         ...,\n",
       "         [  0.,   0.,   0.],\n",
       "         [  0.,   0.,   0.],\n",
       "         [  0.,   0.,   0.]],\n",
       "\n",
       "        [[ 30.,  30.,  30.],\n",
       "         [255., 255., 255.],\n",
       "         [142., 142., 142.],\n",
       "         ...,\n",
       "         [ 36.,  36.,  36.],\n",
       "         [ 93.,  93.,  93.],\n",
       "         [ 45.,  45.,  45.]],\n",
       "\n",
       "        ...,\n",
       "\n",
       "        [[183., 183., 183.],\n",
       "         [ 42.,  42.,  42.],\n",
       "         [  2.,   2.,   2.],\n",
       "         ...,\n",
       "         [ 10.,  10.,  10.],\n",
       "         [109., 109., 109.],\n",
       "         [180., 180., 180.]],\n",
       "\n",
       "        [[ 24.,  24.,  24.],\n",
       "         [171., 171., 171.],\n",
       "         [168., 168., 168.],\n",
       "         ...,\n",
       "         [ 88.,  88.,  88.],\n",
       "         [208., 208., 208.],\n",
       "         [ 92.,  92.,  92.]],\n",
       "\n",
       "        [[112., 112., 112.],\n",
       "         [111., 111., 111.],\n",
       "         [196., 196., 196.],\n",
       "         ...,\n",
       "         [ 62.,  62.,  62.],\n",
       "         [  4.,   4.,   4.],\n",
       "         [175., 175., 175.]]],\n",
       "\n",
       "\n",
       "       [[[ 90.,  90.,  90.],\n",
       "         [  0.,   0.,   0.],\n",
       "         [  0.,   0.,   0.],\n",
       "         ...,\n",
       "         [  0.,   0.,   0.],\n",
       "         [  0.,   0.,   0.],\n",
       "         [  0.,   0.,   0.]],\n",
       "\n",
       "        [[  6.,   6.,   6.],\n",
       "         [  0.,   0.,   0.],\n",
       "         [ 80.,  80.,  80.],\n",
       "         ...,\n",
       "         [  0.,   0.,   0.],\n",
       "         [  0.,   0.,   0.],\n",
       "         [  0.,   0.,   0.]],\n",
       "\n",
       "        [[ 95.,  95.,  95.],\n",
       "         [123., 123., 123.],\n",
       "         [ 63.,  63.,  63.],\n",
       "         ...,\n",
       "         [102., 102., 102.],\n",
       "         [114., 114., 114.],\n",
       "         [244., 244., 244.]],\n",
       "\n",
       "        ...,\n",
       "\n",
       "        [[ 11.,  11.,  11.],\n",
       "         [  0.,   0.,   0.],\n",
       "         [ 93.,  93.,  93.],\n",
       "         ...,\n",
       "         [185., 185., 185.],\n",
       "         [157., 157., 157.],\n",
       "         [ 55.,  55.,  55.]],\n",
       "\n",
       "        [[ 10.,  10.,  10.],\n",
       "         [106., 106., 106.],\n",
       "         [ 62.,  62.,  62.],\n",
       "         ...,\n",
       "         [154., 154., 154.],\n",
       "         [ 28.,  28.,  28.],\n",
       "         [ 19.,  19.,  19.]],\n",
       "\n",
       "        [[ 10.,  10.,  10.],\n",
       "         [223., 223., 223.],\n",
       "         [ 22.,  22.,  22.],\n",
       "         ...,\n",
       "         [185., 185., 185.],\n",
       "         [ 28.,  28.,  28.],\n",
       "         [ 23.,  23.,  23.]]]], dtype=float32)"
      ]
     },
     "execution_count": 21,
     "metadata": {},
     "output_type": "execute_result"
    }
   ],
   "source": [
    "images"
   ]
  },
  {
   "cell_type": "code",
   "execution_count": 22,
   "id": "8472bd8b",
   "metadata": {},
   "outputs": [
    {
     "data": {
      "text/plain": [
       "array([[0., 0., 0., ..., 1., 0., 0.],\n",
       "       [0., 0., 0., ..., 0., 0., 0.],\n",
       "       [0., 0., 0., ..., 0., 1., 0.],\n",
       "       ...,\n",
       "       [0., 0., 1., ..., 0., 0., 0.],\n",
       "       [0., 0., 0., ..., 0., 0., 0.],\n",
       "       [0., 0., 1., ..., 0., 0., 0.]], dtype=float32)"
      ]
     },
     "execution_count": 22,
     "metadata": {},
     "output_type": "execute_result"
    }
   ],
   "source": [
    "marks"
   ]
  },
  {
   "cell_type": "markdown",
   "id": "54512f99",
   "metadata": {},
   "source": [
    "#### MODELO ORIGINAL"
   ]
  },
  {
   "cell_type": "code",
   "execution_count": 26,
   "id": "d2c31831",
   "metadata": {},
   "outputs": [],
   "source": [
    "model_ev = keras.Sequential()\n",
    "model_ev.add(keras.layers.Conv2D(32, (5, 5), input_shape=(128, 128, 3), activation='relu', padding='same'))\n",
    "model_ev.add(keras.layers.MaxPooling2D(2))\n",
    "model_ev.add(keras.layers.Dropout(0.2))\n",
    "model_ev.add(keras.layers.BatchNormalization())\n",
    "model_ev.add(keras.layers.Conv2D(64, (3, 3), activation='relu'))\n",
    "model_ev.add(keras.layers.Conv2D(128, (3, 3), activation='relu'))\n",
    "model_ev.add(keras.layers.Flatten())\n",
    "model_ev.add(keras.layers.Dense(128, activation='relu'))\n",
    "model_ev.add(keras.layers.Dense(25, activation='softmax'))"
   ]
  },
  {
   "cell_type": "code",
   "execution_count": 27,
   "id": "1eee7132",
   "metadata": {},
   "outputs": [],
   "source": [
    "# Compile\n",
    "# https://faroit.com/keras-docs/2.1.3/models/sequential/\n",
    "model_ev.compile(loss='categorical_crossentropy',optimizer='SGD',metrics=['accuracy'])"
   ]
  },
  {
   "cell_type": "code",
   "execution_count": 28,
   "id": "af748def",
   "metadata": {},
   "outputs": [
    {
     "name": "stdout",
     "output_type": "stream",
     "text": [
      "Model: \"sequential_1\"\n",
      "_________________________________________________________________\n",
      "Layer (type)                 Output Shape              Param #   \n",
      "=================================================================\n",
      "conv2d_3 (Conv2D)            (None, 128, 128, 32)      2432      \n",
      "_________________________________________________________________\n",
      "max_pooling2d_1 (MaxPooling2 (None, 64, 64, 32)        0         \n",
      "_________________________________________________________________\n",
      "dropout_1 (Dropout)          (None, 64, 64, 32)        0         \n",
      "_________________________________________________________________\n",
      "batch_normalization_1 (Batch (None, 64, 64, 32)        128       \n",
      "_________________________________________________________________\n",
      "conv2d_4 (Conv2D)            (None, 62, 62, 64)        18496     \n",
      "_________________________________________________________________\n",
      "conv2d_5 (Conv2D)            (None, 60, 60, 128)       73856     \n",
      "_________________________________________________________________\n",
      "flatten_1 (Flatten)          (None, 460800)            0         \n",
      "_________________________________________________________________\n",
      "dense_2 (Dense)              (None, 128)               58982528  \n",
      "_________________________________________________________________\n",
      "dense_3 (Dense)              (None, 25)                3225      \n",
      "=================================================================\n",
      "Total params: 59,080,665\n",
      "Trainable params: 59,080,601\n",
      "Non-trainable params: 64\n",
      "_________________________________________________________________\n"
     ]
    }
   ],
   "source": [
    "model_ev.summary()"
   ]
  },
  {
   "cell_type": "code",
   "execution_count": 29,
   "id": "222a49ee",
   "metadata": {},
   "outputs": [
    {
     "name": "stdout",
     "output_type": "stream",
     "text": [
      "Train on 7471 samples, validate on 1868 samples\n",
      "Epoch 1/5\n",
      "7471/7471 [==============================] - ETA: 0s - loss: 0.4041 - accuracy: 0.8901"
     ]
    },
    {
     "name": "stderr",
     "output_type": "stream",
     "text": [
      "C:\\Users\\sarit\\AppData\\Roaming\\Python\\Python38\\site-packages\\keras\\engine\\training.py:2470: UserWarning: `Model.state_updates` will be removed in a future version. This property should not be used in TensorFlow 2.0, as `updates` are applied automatically.\n",
      "  warnings.warn('`Model.state_updates` will be removed in a future version. '\n"
     ]
    },
    {
     "name": "stdout",
     "output_type": "stream",
     "text": [
      "7471/7471 [==============================] - 286s 38ms/sample - loss: 0.4041 - accuracy: 0.8901 - val_loss: 0.1223 - val_accuracy: 0.9647\n",
      "Epoch 2/5\n",
      "7471/7471 [==============================] - 296s 40ms/sample - loss: 0.0761 - accuracy: 0.9738 - val_loss: 0.0848 - val_accuracy: 0.9695\n",
      "Epoch 3/5\n",
      "7471/7471 [==============================] - 310s 42ms/sample - loss: 0.0387 - accuracy: 0.9872 - val_loss: 0.0740 - val_accuracy: 0.9791\n",
      "Epoch 4/5\n",
      "7471/7471 [==============================] - 320s 43ms/sample - loss: 0.0079 - accuracy: 0.9987 - val_loss: 0.0615 - val_accuracy: 0.9823\n",
      "Epoch 5/5\n",
      "7471/7471 [==============================] - 326s 44ms/sample - loss: 0.0019 - accuracy: 0.9999 - val_loss: 0.0616 - val_accuracy: 0.9845\n"
     ]
    },
    {
     "data": {
      "text/plain": [
       "<keras.callbacks.History at 0x1ebbad35940>"
      ]
     },
     "execution_count": 29,
     "metadata": {},
     "output_type": "execute_result"
    }
   ],
   "source": [
    "model_ev.fit(X_train, y_train, batch_size=10, validation_data=(X_test0, y_test0), epochs=5)"
   ]
  },
  {
   "cell_type": "code",
   "execution_count": 31,
   "id": "840fb3e1",
   "metadata": {},
   "outputs": [],
   "source": [
    "model_ev_class = KerasClassifier(model, clip_values=(0, 1), use_logits=False)"
   ]
  },
  {
   "cell_type": "code",
   "execution_count": 34,
   "id": "7f237c23",
   "metadata": {},
   "outputs": [
    {
     "name": "stdout",
     "output_type": "stream",
     "text": [
      "Clasificados correctamente: 29\n",
      "Clasificados incorrectamente: 1839\n",
      "Porcentaje: 0.015524625267665952\n"
     ]
    }
   ],
   "source": [
    "x_test_pred = np.argmax(model_ev_class.predict(X_test0), axis=1)\n",
    "nb_correct_pred = np.sum(x_test_pred == np.argmax(y_test0, axis=1))\n",
    "\n",
    "print(\"Clasificados correctamente: {}\".format(nb_correct_pred))\n",
    "print(\"Clasificados incorrectamente: {}\".format(len(X_test0)-nb_correct_pred))\n",
    "print(\"Porcentaje: {}\".format(nb_correct_pred/len(X_test0)))"
   ]
  },
  {
   "cell_type": "markdown",
   "id": "f11506df",
   "metadata": {},
   "source": [
    "### Evasion FGM"
   ]
  },
  {
   "cell_type": "code",
   "execution_count": 36,
   "id": "22511c1e",
   "metadata": {},
   "outputs": [],
   "source": [
    "attacker = FastGradientMethod(model_ev_class, eps=100)\n",
    "x_test_adv = attacker.generate(X_test0)"
   ]
  },
  {
   "cell_type": "code",
   "execution_count": 38,
   "id": "df8f24d0",
   "metadata": {},
   "outputs": [
    {
     "name": "stdout",
     "output_type": "stream",
     "text": [
      "Clasificados correctamente: 34\n",
      "Clasificados incorrectamente: 1834\n",
      "Porcentaje: 0.018201284796573874\n"
     ]
    }
   ],
   "source": [
    "x_test_adv_pred = np.argmax(model_ev_class.predict(x_test_adv), axis=1)\n",
    "nb_correct_adv_pred = np.sum(x_test_adv_pred == np.argmax(y_test0, axis=1))\n",
    "\n",
    "print(\"Clasificados correctamente: {}\".format(nb_correct_adv_pred))\n",
    "print(\"Clasificados incorrectamente: {}\".format(len(X_test0)-nb_correct_adv_pred))\n",
    "print(\"Porcentaje: {}\".format(nb_correct_adv_pred/len(X_test0)))"
   ]
  },
  {
   "cell_type": "markdown",
   "id": "38ccfad1",
   "metadata": {},
   "source": [
    "### MODELO ROBUSTO"
   ]
  },
  {
   "cell_type": "code",
   "execution_count": 40,
   "id": "1eadd26e",
   "metadata": {},
   "outputs": [],
   "source": [
    "modelR = Sequential()\n",
    "modelR.add(keras.layers.Rescaling(1./255, input_shape=(128, 128, 3)))\n",
    "modelR.add(keras.layers.Conv2D(32, kernel_size=(3, 3), activation='relu'))\n",
    "modelR.add(keras.layers.MaxPooling2D(pool_size=(2, 2)))\n",
    "modelR.add(keras.layers.Conv2D(64, (3, 3), activation='relu'))\n",
    "modelR.add(keras.layers.MaxPooling2D(pool_size=(2, 2)))\n",
    "modelR.add(keras.layers.Flatten())\n",
    "modelR.add(keras.layers.Dense(1024, activation='relu'))\n",
    "modelR.add(keras.layers.Dense(25, activation='softmax'))"
   ]
  },
  {
   "cell_type": "code",
   "execution_count": 42,
   "id": "82d723a3",
   "metadata": {},
   "outputs": [],
   "source": [
    "modelR.compile(loss='categorical_crossentropy', optimizer = 'adam', metrics=['accuracy'])"
   ]
  },
  {
   "cell_type": "code",
   "execution_count": null,
   "id": "07ad9a2f",
   "metadata": {},
   "outputs": [],
   "source": [
    "## --"
   ]
  },
  {
   "cell_type": "code",
   "execution_count": 81,
   "id": "682b6702",
   "metadata": {},
   "outputs": [
    {
     "name": "stdout",
     "output_type": "stream",
     "text": [
      "Model: \"sequential_2\"\n",
      "_________________________________________________________________\n",
      "Layer (type)                 Output Shape              Param #   \n",
      "=================================================================\n",
      "rescaling (Rescaling)        (None, 128, 128, 3)       0         \n",
      "_________________________________________________________________\n",
      "conv2d_6 (Conv2D)            (None, 126, 126, 32)      896       \n",
      "_________________________________________________________________\n",
      "max_pooling2d_2 (MaxPooling2 (None, 63, 63, 32)        0         \n",
      "_________________________________________________________________\n",
      "conv2d_7 (Conv2D)            (None, 61, 61, 64)        18496     \n",
      "_________________________________________________________________\n",
      "max_pooling2d_3 (MaxPooling2 (None, 30, 30, 64)        0         \n",
      "_________________________________________________________________\n",
      "flatten_2 (Flatten)          (None, 57600)             0         \n",
      "_________________________________________________________________\n",
      "dense_4 (Dense)              (None, 1024)              58983424  \n",
      "_________________________________________________________________\n",
      "dense_5 (Dense)              (None, 25)                25625     \n",
      "=================================================================\n",
      "Total params: 59,028,441\n",
      "Trainable params: 59,028,441\n",
      "Non-trainable params: 0\n",
      "_________________________________________________________________\n"
     ]
    }
   ],
   "source": [
    "modelR.summary()"
   ]
  },
  {
   "cell_type": "code",
   "execution_count": 82,
   "id": "a3c6d9d6",
   "metadata": {},
   "outputs": [
    {
     "data": {
      "text/plain": [
       "<keras.engine.sequential.Sequential at 0x1ea800c0f70>"
      ]
     },
     "execution_count": 82,
     "metadata": {},
     "output_type": "execute_result"
    }
   ],
   "source": [
    "modelR"
   ]
  },
  {
   "cell_type": "code",
   "execution_count": 83,
   "id": "755b7351",
   "metadata": {},
   "outputs": [
    {
     "data": {
      "text/plain": [
       "[<keras.layers.convolutional.Conv2D at 0x1ebbaac94c0>,\n",
       " <keras.layers.pooling.MaxPooling2D at 0x1ebbaaacb50>,\n",
       " <keras.layers.core.Dropout at 0x1ebbab23580>,\n",
       " <keras.layers.normalization.batch_normalization.BatchNormalization at 0x1ebbab23550>,\n",
       " <keras.layers.convolutional.Conv2D at 0x1ebbab59d00>,\n",
       " <keras.layers.convolutional.Conv2D at 0x1ebbabe5580>,\n",
       " <keras.layers.core.Flatten at 0x1ebbab23d00>,\n",
       " <keras.layers.core.Dense at 0x1ebbac18520>,\n",
       " <keras.layers.core.Dense at 0x1ebbac26640>]"
      ]
     },
     "execution_count": 83,
     "metadata": {},
     "output_type": "execute_result"
    }
   ],
   "source": [
    "model.layers"
   ]
  },
  {
   "cell_type": "code",
   "execution_count": 84,
   "id": "a469b660",
   "metadata": {},
   "outputs": [
    {
     "name": "stdout",
     "output_type": "stream",
     "text": [
      "<keras.optimizer_v2.gradient_descent.SGD object at 0x000001EBBAAAC6D0>\n"
     ]
    }
   ],
   "source": [
    "print(model.optimizer)"
   ]
  },
  {
   "cell_type": "code",
   "execution_count": 85,
   "id": "fb527d99",
   "metadata": {},
   "outputs": [
    {
     "name": "stdout",
     "output_type": "stream",
     "text": [
      "[<keras.metrics.MeanMetricWrapper object at 0x000001EBBAAACA00>]\n"
     ]
    }
   ],
   "source": [
    "print(model.metrics)"
   ]
  },
  {
   "cell_type": "code",
   "execution_count": 86,
   "id": "942b8001",
   "metadata": {},
   "outputs": [
    {
     "name": "stderr",
     "output_type": "stream",
     "text": [
      "C:\\Users\\sarit\\AppData\\Roaming\\Python\\Python38\\site-packages\\keras\\engine\\training.py:2470: UserWarning: `Model.state_updates` will be removed in a future version. This property should not be used in TensorFlow 2.0, as `updates` are applied automatically.\n",
      "  warnings.warn('`Model.state_updates` will be removed in a future version. '\n"
     ]
    },
    {
     "name": "stdout",
     "output_type": "stream",
     "text": [
      "Exactitud --> 112.02499755597982\n"
     ]
    }
   ],
   "source": [
    "# Comprobacion sobre data\n",
    "op = model.evaluate(X_test0, y_test0)\n",
    "print(\"Exactitud -->\", op[0])"
   ]
  },
  {
   "cell_type": "code",
   "execution_count": 43,
   "id": "5861da8b",
   "metadata": {},
   "outputs": [
    {
     "name": "stdout",
     "output_type": "stream",
     "text": [
      "Original model training:\n",
      "Train on 7471 samples\n",
      "Epoch 1/5\n",
      "7471/7471 [==============================] - 249s 33ms/sample - loss: 0.4614 - accuracy: 0.8957\n",
      "Epoch 2/5\n",
      "7471/7471 [==============================] - 270s 36ms/sample - loss: 0.0977 - accuracy: 0.9710\n",
      "Epoch 3/5\n",
      "7471/7471 [==============================] - 255s 34ms/sample - loss: 0.0682 - accuracy: 0.9786\n",
      "Epoch 4/5\n",
      "7471/7471 [==============================] - 248s 33ms/sample - loss: 0.0531 - accuracy: 0.9829\n",
      "Epoch 5/5\n",
      "7471/7471 [==============================] - 244s 33ms/sample - loss: 0.0428 - accuracy: 0.9877\n",
      "Original model evaluation:\n",
      "[0.1183953982572484, 0.9652034]\n"
     ]
    }
   ],
   "source": [
    "print(\"Training:\")\n",
    "modelR.fit(X_train, y_train, batch_size=10, epochs=5)\n",
    "print(\"Testing\")\n",
    "print(modelR.evaluate(X_test0, y_test0))"
   ]
  },
  {
   "cell_type": "code",
   "execution_count": 65,
   "id": "26ecb8db",
   "metadata": {},
   "outputs": [],
   "source": [
    "robust_class = KerasClassifier(modelR, clip_values=(0, 1), use_logits=False)"
   ]
  },
  {
   "cell_type": "markdown",
   "id": "692232e3",
   "metadata": {},
   "source": [
    "### Ataque"
   ]
  },
  {
   "cell_type": "code",
   "execution_count": 67,
   "id": "a7c4fc57",
   "metadata": {},
   "outputs": [],
   "source": [
    "# attacks = BasicIterativeMethod(robust_class, eps=60, eps_step=2, max_iter=40)\n",
    "# trainer = AdversarialTrainer(robust_class, attacks, ratio=1.0)\n",
    "# trainer.fit(X_train, y_train, nb_epochs=5, batch_size=100)"
   ]
  },
  {
   "cell_type": "code",
   "execution_count": 53,
   "id": "7c06a413",
   "metadata": {},
   "outputs": [
    {
     "name": "stdout",
     "output_type": "stream",
     "text": [
      "Clasificados correctamente: 1611\n",
      "Clasificados incorrectamente: 257\n",
      "Porcentaje: 0.8624197002141327\n"
     ]
    }
   ],
   "source": [
    "x_test_robust_pred = np.argmax(robust_class.predict(X_test0), axis=1)\n",
    "nb_correct_robust_pred = np.sum(x_test_robust_pred == np.argmax(y_test0, axis=1))\n",
    "\n",
    "print(\"Clasificados correctamente: {}\".format(nb_correct_robust_pred))\n",
    "print(\"Clasificados incorrectamente: {}\".format(len(X_test0)-nb_correct_robust_pred))\n",
    "print(\"Porcentaje: {}\".format(nb_correct_robust_pred/len(X_test0)))"
   ]
  },
  {
   "cell_type": "code",
   "execution_count": 69,
   "id": "97f2b96d",
   "metadata": {},
   "outputs": [],
   "source": [
    "#FGM\n",
    "robust_attacker = FastGradientMethod(robust_class, eps=100)\n",
    "x_test_adv = Rattacker.generate(X_test0)"
   ]
  },
  {
   "cell_type": "code",
   "execution_count": 70,
   "id": "9181471d",
   "metadata": {},
   "outputs": [],
   "source": [
    "x_test_adv_robust_pred = np.argmax(robust_class.predict(x_test_adv), axis=1)\n",
    "nb_correct_adv_robust_pred = np.sum(x_test_adv_robust_pred == np.argmax(y_test0, axis=1))\n",
    "\n",
    "# print(\"Clasificados correctamente: {}\".format(nb_correct_adv_robust_pred))\n",
    "# print(\"Clasificados incorrectamente: {}\".format(len(x_test0)-nb_correct_adv_robust_pred))\n",
    "# print(\"Porcentaje: {}\".format(nb_correct_adv_robust_pred/len(x_test0)))"
   ]
  },
  {
   "cell_type": "code",
   "execution_count": 76,
   "id": "9da259d3",
   "metadata": {},
   "outputs": [],
   "source": [
    "eps_range = [1, 2, 3, 4, 5, 10, 20, 30]\n",
    "nb_correct_original = []\n",
    "nb_correct_robust = []\n",
    "\n",
    "for eps in eps_range:\n",
    "    attacker.set_params(**{'eps': eps})\n",
    "    robust_attacker.set_params(**{'eps': eps})\n",
    "    x_test_adv = attacker.generate(X_test0)\n",
    "    x_test_adv_robust = robust_attacker.generate(X_test0)\n",
    "    x_test_adv_pred = np.argmax(model_ev_class.predict(x_test_adv), axis=1)\n",
    "    nb_correct_original += [np.sum(x_test_adv_pred == np.argmax(y_test0, axis=1))]\n",
    "    x_test_adv_robust_pred = np.argmax(robust_class.predict(x_test_adv_robust), axis=1)\n",
    "    nb_correct_robust += [np.sum(x_test_adv_robust_pred == np.argmax(y_test0, axis=1))]\n",
    "\n",
    "eps_range = [0] + eps_range\n",
    "nb_correct_original = [nb_correct_pred] + nb_correct_original\n",
    "nb_correct_robust = [nb_correct_robust_pred] + nb_correct_robust"
   ]
  },
  {
   "cell_type": "code",
   "execution_count": 80,
   "id": "bf3250b9",
   "metadata": {},
   "outputs": [
    {
     "data": {
      "image/png": "[encoded data removed]",
      "text/plain": [
       "<Figure size 432x288 with 1 Axes>"
      ]
     },
     "metadata": {
      "needs_background": "light"
     },
     "output_type": "display_data"
    }
   ],
   "source": [
    "#Grafica\n",
    "fig, ax = plt.subplots()\n",
    "ax.plot(np.array(eps_range), np.array(nb_correct_original), 'b--', label='Clasificador Original')\n",
    "ax.plot(np.array(eps_range), np.array(nb_correct_robust), 'r--', label='Clasificador Robusto')\n",
    "\n",
    "legend = ax.legend(shadow=True, fontsize='large')\n",
    "legend.get_frame().set_facecolor('white')\n",
    "\n",
    "plt.xlabel('Fuerza del ataque (eps)')\n",
    "plt.ylabel('Clasificados correctamente')\n",
    "plt.show()"
   ]
  },
  {
   "cell_type": "markdown",
   "id": "5e3dc50d",
   "metadata": {},
   "source": [
    "- Con este gráfico, podemos concluir que el clasificador robusto tiene un rendimiento mucho mejor que el  clasificador original.\n",
    "-  La cantidad de clasificados correctamente por parte del clasificador original es muy baja\n",
    "- Se puede apreciar un pequeño incremento de eps por parte del clasificador original"
   ]
  },
  {
   "cell_type": "code",
   "execution_count": null,
   "id": "bccc9102",
   "metadata": {},
   "outputs": [],
   "source": []
  }
 ],
 "metadata": {
  "kernelspec": {
   "display_name": "Python 3",
   "language": "python",
   "name": "python3"
  },
  "language_info": {
   "codemirror_mode": {
    "name": "ipython",
    "version": 3
   },
   "file_extension": ".py",
   "mimetype": "text/x-python",
   "name": "python",
   "nbconvert_exporter": "python",
   "pygments_lexer": "ipython3",
   "version": "3.8.8"
  }
 },
 "nbformat": 4,
 "nbformat_minor": 5
}
